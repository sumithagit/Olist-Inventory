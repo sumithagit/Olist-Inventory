{
 "cells": [
  {
   "cell_type": "markdown",
   "metadata": {},
   "source": [
    "# Marketing and Retail Analytics Capstone Project - Olist\n",
    "\n",
    "## Problem Statement\n",
    "OList is an e-commerce company that has faced some losses recently and they want to manage their inventory very well so as to reduce any unnecessary costs that they might be bearing.<br>\n",
    "As part of managing the inventory cost ,Olist wants to identify top products that contribute to the revenue and also use market basket analysis to analyse the purchase behaviour of individual customers to estimate with relative certainty, what items are more likely to be purchased individually or in combination with some other products.\n",
    "\n",
    "To be specific the company wants to understand the following factors.\n",
    "- The top 20 ordered products by quantity are identified.\n",
    "- The top 20 products by revenue are identified.\n",
    "- The product categories which are ordered more than 5 times are identified.\n",
    "- Combinations of product categories which are frequently ordered together are identified."
   ]
  },
  {
   "cell_type": "code",
   "execution_count": 46,
   "metadata": {},
   "outputs": [],
   "source": [
    "#importing required libraries\n",
    "\n",
    "import numpy as np\n",
    "import pandas as pd\n",
    "import matplotlib.pyplot as plt\n",
    "%matplotlib inline\n",
    "import seaborn as sns"
   ]
  },
  {
   "cell_type": "code",
   "execution_count": 47,
   "metadata": {},
   "outputs": [],
   "source": [
    "# Display options setting so as to see all the rows and columns of the dataframe\n",
    "pd.set_option('display.max_columns',None) #to dispaly all columns of dataframe\n",
    "pd.set_option('display.max_rows',None) #to dispaly all rows of dataframe"
   ]
  },
  {
   "cell_type": "markdown",
   "metadata": {},
   "source": [
    "### Step 1 : \n",
    "#### Reading and Understanding the data set"
   ]
  },
  {
   "cell_type": "code",
   "execution_count": 48,
   "metadata": {},
   "outputs": [],
   "source": [
    "# reading each sheet from the excel into each dataframe\n",
    "\n",
    "# reading 'orders' sheet into df_orders dataframe\n",
    "df_orders=pd.read_excel(\"Retail_dataset.xlsx\",'orders')\n",
    "\n",
    "# reading 'order_items' sheet into df_items dataframe\n",
    "df_items=pd.read_excel(\"Retail_dataset.xlsx\",sheet_name='order_items')\n",
    "\n",
    "# reading 'customers' sheet into df_customers dataframe\n",
    "df_customers=pd.read_excel(\"Retail_dataset.xlsx\",sheet_name='customers')\n",
    "\n",
    "# reading 'payments' sheet into df_payments dataframe\n",
    "df_payments=pd.read_excel(\"Retail_dataset.xlsx\",sheet_name='payments')\n",
    "\n",
    "\n",
    "# reading 'products' sheet into df_products dataframe\n",
    "df_products=pd.read_excel(\"Retail_dataset.xlsx\",sheet_name='products')"
   ]
  },
  {
   "cell_type": "code",
   "execution_count": 49,
   "metadata": {},
   "outputs": [],
   "source": [
    "# Checking df_orders dataframe"
   ]
  },
  {
   "cell_type": "markdown",
   "metadata": {},
   "source": [
    "***From the ERD given in the excel file it is evident that the different sheets can be combined .<br>Merging the dataframes to form a single dataframe for ease of analysis.*** <br>\n",
    "\n",
    "***However the 'Customers' and 'Payments' sheets data does not seem to be relevant for the analysis. Hence these dataframes are not merged.***"
   ]
  },
  {
   "cell_type": "code",
   "execution_count": 50,
   "metadata": {
    "scrolled": true
   },
   "outputs": [],
   "source": [
    "# merging the dataframes to form a single dataset\n",
    "df=pd.merge(df_orders,df_items,on='order_id')\n",
    "df=df.merge(df_products,on='product_id')"
   ]
  },
  {
   "cell_type": "code",
   "execution_count": 51,
   "metadata": {},
   "outputs": [
    {
     "data": {
      "text/html": [
       "<div>\n",
       "<style scoped>\n",
       "    .dataframe tbody tr th:only-of-type {\n",
       "        vertical-align: middle;\n",
       "    }\n",
       "\n",
       "    .dataframe tbody tr th {\n",
       "        vertical-align: top;\n",
       "    }\n",
       "\n",
       "    .dataframe thead th {\n",
       "        text-align: right;\n",
       "    }\n",
       "</style>\n",
       "<table border=\"1\" class=\"dataframe\">\n",
       "  <thead>\n",
       "    <tr style=\"text-align: right;\">\n",
       "      <th></th>\n",
       "      <th>order_id</th>\n",
       "      <th>customer_id</th>\n",
       "      <th>order_status</th>\n",
       "      <th>order_purchase_timestamp</th>\n",
       "      <th>order_approved_at</th>\n",
       "      <th>order_delivered_timestamp</th>\n",
       "      <th>order_estimated_delivery_date</th>\n",
       "      <th>order_item_id</th>\n",
       "      <th>product_id</th>\n",
       "      <th>seller_id</th>\n",
       "      <th>price</th>\n",
       "      <th>shipping_charges</th>\n",
       "      <th>product_category_name</th>\n",
       "      <th>product_weight_g</th>\n",
       "      <th>product_length_cm</th>\n",
       "      <th>product_height_cm</th>\n",
       "      <th>product_width_cm</th>\n",
       "    </tr>\n",
       "  </thead>\n",
       "  <tbody>\n",
       "    <tr>\n",
       "      <th>0</th>\n",
       "      <td>e481f51cbdc54678b7cc49136f2d6af7</td>\n",
       "      <td>7c396fd4830fd04220f754e42b4e5bff</td>\n",
       "      <td>delivered</td>\n",
       "      <td>2017-10-02 10:56:33</td>\n",
       "      <td>2017-10-02 11:07:15</td>\n",
       "      <td>2017-10-10 21:25:13</td>\n",
       "      <td>2017-10-18</td>\n",
       "      <td>1</td>\n",
       "      <td>87285b34884572647811a353c7ac498a</td>\n",
       "      <td>3504c0cb71d7fa48d967e0e4c94d59d9</td>\n",
       "      <td>29.99</td>\n",
       "      <td>8.72</td>\n",
       "      <td>housewares</td>\n",
       "      <td>500.0</td>\n",
       "      <td>19.0</td>\n",
       "      <td>8.0</td>\n",
       "      <td>13.0</td>\n",
       "    </tr>\n",
       "    <tr>\n",
       "      <th>1</th>\n",
       "      <td>128e10d95713541c87cd1a2e48201934</td>\n",
       "      <td>3a51803cc0d012c3b5dc8b7528cb05f7</td>\n",
       "      <td>delivered</td>\n",
       "      <td>2017-08-15 18:29:31</td>\n",
       "      <td>2017-08-15 20:05:16</td>\n",
       "      <td>2017-08-18 14:44:43</td>\n",
       "      <td>2017-08-28</td>\n",
       "      <td>1</td>\n",
       "      <td>87285b34884572647811a353c7ac498a</td>\n",
       "      <td>3504c0cb71d7fa48d967e0e4c94d59d9</td>\n",
       "      <td>29.99</td>\n",
       "      <td>7.78</td>\n",
       "      <td>housewares</td>\n",
       "      <td>500.0</td>\n",
       "      <td>19.0</td>\n",
       "      <td>8.0</td>\n",
       "      <td>13.0</td>\n",
       "    </tr>\n",
       "    <tr>\n",
       "      <th>2</th>\n",
       "      <td>0e7e841ddf8f8f2de2bad69267ecfbcf</td>\n",
       "      <td>ef0996a1a279c26e7ecbd737be23d235</td>\n",
       "      <td>delivered</td>\n",
       "      <td>2017-08-02 18:24:47</td>\n",
       "      <td>2017-08-02 18:43:15</td>\n",
       "      <td>2017-08-07 18:30:01</td>\n",
       "      <td>2017-08-15</td>\n",
       "      <td>1</td>\n",
       "      <td>87285b34884572647811a353c7ac498a</td>\n",
       "      <td>3504c0cb71d7fa48d967e0e4c94d59d9</td>\n",
       "      <td>29.99</td>\n",
       "      <td>7.78</td>\n",
       "      <td>housewares</td>\n",
       "      <td>500.0</td>\n",
       "      <td>19.0</td>\n",
       "      <td>8.0</td>\n",
       "      <td>13.0</td>\n",
       "    </tr>\n",
       "    <tr>\n",
       "      <th>3</th>\n",
       "      <td>bfc39df4f36c3693ff3b63fcbea9e90a</td>\n",
       "      <td>e781fdcc107d13d865fc7698711cc572</td>\n",
       "      <td>delivered</td>\n",
       "      <td>2017-10-23 23:26:46</td>\n",
       "      <td>2017-10-25 02:14:11</td>\n",
       "      <td>2017-11-07 18:04:59</td>\n",
       "      <td>2017-11-13</td>\n",
       "      <td>1</td>\n",
       "      <td>87285b34884572647811a353c7ac498a</td>\n",
       "      <td>3504c0cb71d7fa48d967e0e4c94d59d9</td>\n",
       "      <td>29.99</td>\n",
       "      <td>14.10</td>\n",
       "      <td>housewares</td>\n",
       "      <td>500.0</td>\n",
       "      <td>19.0</td>\n",
       "      <td>8.0</td>\n",
       "      <td>13.0</td>\n",
       "    </tr>\n",
       "    <tr>\n",
       "      <th>4</th>\n",
       "      <td>53cdb2fc8bc7dce0b6741e2150273451</td>\n",
       "      <td>af07308b275d755c9edb36a90c618231</td>\n",
       "      <td>delivered</td>\n",
       "      <td>2018-07-24 20:41:37</td>\n",
       "      <td>2018-07-26 03:24:27</td>\n",
       "      <td>2018-08-07 15:27:45</td>\n",
       "      <td>2018-08-13</td>\n",
       "      <td>1</td>\n",
       "      <td>595fac2a385ac33a80bd5114aec74eb8</td>\n",
       "      <td>289cdb325fb7e7f891c38608bf9e0962</td>\n",
       "      <td>118.70</td>\n",
       "      <td>22.76</td>\n",
       "      <td>toys</td>\n",
       "      <td>400.0</td>\n",
       "      <td>19.0</td>\n",
       "      <td>13.0</td>\n",
       "      <td>19.0</td>\n",
       "    </tr>\n",
       "  </tbody>\n",
       "</table>\n",
       "</div>"
      ],
      "text/plain": [
       "                           order_id                       customer_id  \\\n",
       "0  e481f51cbdc54678b7cc49136f2d6af7  7c396fd4830fd04220f754e42b4e5bff   \n",
       "1  128e10d95713541c87cd1a2e48201934  3a51803cc0d012c3b5dc8b7528cb05f7   \n",
       "2  0e7e841ddf8f8f2de2bad69267ecfbcf  ef0996a1a279c26e7ecbd737be23d235   \n",
       "3  bfc39df4f36c3693ff3b63fcbea9e90a  e781fdcc107d13d865fc7698711cc572   \n",
       "4  53cdb2fc8bc7dce0b6741e2150273451  af07308b275d755c9edb36a90c618231   \n",
       "\n",
       "  order_status order_purchase_timestamp   order_approved_at  \\\n",
       "0    delivered      2017-10-02 10:56:33 2017-10-02 11:07:15   \n",
       "1    delivered      2017-08-15 18:29:31 2017-08-15 20:05:16   \n",
       "2    delivered      2017-08-02 18:24:47 2017-08-02 18:43:15   \n",
       "3    delivered      2017-10-23 23:26:46 2017-10-25 02:14:11   \n",
       "4    delivered      2018-07-24 20:41:37 2018-07-26 03:24:27   \n",
       "\n",
       "  order_delivered_timestamp order_estimated_delivery_date  order_item_id  \\\n",
       "0       2017-10-10 21:25:13                    2017-10-18              1   \n",
       "1       2017-08-18 14:44:43                    2017-08-28              1   \n",
       "2       2017-08-07 18:30:01                    2017-08-15              1   \n",
       "3       2017-11-07 18:04:59                    2017-11-13              1   \n",
       "4       2018-08-07 15:27:45                    2018-08-13              1   \n",
       "\n",
       "                         product_id                         seller_id   price  \\\n",
       "0  87285b34884572647811a353c7ac498a  3504c0cb71d7fa48d967e0e4c94d59d9   29.99   \n",
       "1  87285b34884572647811a353c7ac498a  3504c0cb71d7fa48d967e0e4c94d59d9   29.99   \n",
       "2  87285b34884572647811a353c7ac498a  3504c0cb71d7fa48d967e0e4c94d59d9   29.99   \n",
       "3  87285b34884572647811a353c7ac498a  3504c0cb71d7fa48d967e0e4c94d59d9   29.99   \n",
       "4  595fac2a385ac33a80bd5114aec74eb8  289cdb325fb7e7f891c38608bf9e0962  118.70   \n",
       "\n",
       "   shipping_charges product_category_name  product_weight_g  \\\n",
       "0              8.72            housewares             500.0   \n",
       "1              7.78            housewares             500.0   \n",
       "2              7.78            housewares             500.0   \n",
       "3             14.10            housewares             500.0   \n",
       "4             22.76                  toys             400.0   \n",
       "\n",
       "   product_length_cm  product_height_cm  product_width_cm  \n",
       "0               19.0                8.0              13.0  \n",
       "1               19.0                8.0              13.0  \n",
       "2               19.0                8.0              13.0  \n",
       "3               19.0                8.0              13.0  \n",
       "4               19.0               13.0              19.0  "
      ]
     },
     "execution_count": 51,
     "metadata": {},
     "output_type": "execute_result"
    }
   ],
   "source": [
    "# Checking the head of the dataframe \n",
    "df.head()"
   ]
  },
  {
   "cell_type": "code",
   "execution_count": 52,
   "metadata": {},
   "outputs": [
    {
     "data": {
      "text/plain": [
       "(112650, 17)"
      ]
     },
     "execution_count": 52,
     "metadata": {},
     "output_type": "execute_result"
    }
   ],
   "source": [
    "#checking the shape of the dataset\n",
    "df.shape"
   ]
  },
  {
   "cell_type": "code",
   "execution_count": 53,
   "metadata": {
    "scrolled": true
   },
   "outputs": [
    {
     "name": "stdout",
     "output_type": "stream",
     "text": [
      "<class 'pandas.core.frame.DataFrame'>\n",
      "Int64Index: 112650 entries, 0 to 112649\n",
      "Data columns (total 17 columns):\n",
      " #   Column                         Non-Null Count   Dtype         \n",
      "---  ------                         --------------   -----         \n",
      " 0   order_id                       112650 non-null  object        \n",
      " 1   customer_id                    112650 non-null  object        \n",
      " 2   order_status                   112650 non-null  object        \n",
      " 3   order_purchase_timestamp       112650 non-null  datetime64[ns]\n",
      " 4   order_approved_at              112635 non-null  datetime64[ns]\n",
      " 5   order_delivered_timestamp      110196 non-null  datetime64[ns]\n",
      " 6   order_estimated_delivery_date  112650 non-null  datetime64[ns]\n",
      " 7   order_item_id                  112650 non-null  int64         \n",
      " 8   product_id                     112650 non-null  object        \n",
      " 9   seller_id                      112650 non-null  object        \n",
      " 10  price                          112650 non-null  float64       \n",
      " 11  shipping_charges               112650 non-null  float64       \n",
      " 12  product_category_name          112257 non-null  object        \n",
      " 13  product_weight_g               112632 non-null  float64       \n",
      " 14  product_length_cm              112632 non-null  float64       \n",
      " 15  product_height_cm              112632 non-null  float64       \n",
      " 16  product_width_cm               112632 non-null  float64       \n",
      "dtypes: datetime64[ns](4), float64(6), int64(1), object(6)\n",
      "memory usage: 15.5+ MB\n"
     ]
    }
   ],
   "source": [
    "# checking the info of the dataset\n",
    "df.info()"
   ]
  },
  {
   "cell_type": "code",
   "execution_count": 54,
   "metadata": {},
   "outputs": [
    {
     "data": {
      "text/html": [
       "<div>\n",
       "<style scoped>\n",
       "    .dataframe tbody tr th:only-of-type {\n",
       "        vertical-align: middle;\n",
       "    }\n",
       "\n",
       "    .dataframe tbody tr th {\n",
       "        vertical-align: top;\n",
       "    }\n",
       "\n",
       "    .dataframe thead th {\n",
       "        text-align: right;\n",
       "    }\n",
       "</style>\n",
       "<table border=\"1\" class=\"dataframe\">\n",
       "  <thead>\n",
       "    <tr style=\"text-align: right;\">\n",
       "      <th></th>\n",
       "      <th>order_item_id</th>\n",
       "      <th>price</th>\n",
       "      <th>shipping_charges</th>\n",
       "      <th>product_weight_g</th>\n",
       "      <th>product_length_cm</th>\n",
       "      <th>product_height_cm</th>\n",
       "      <th>product_width_cm</th>\n",
       "    </tr>\n",
       "  </thead>\n",
       "  <tbody>\n",
       "    <tr>\n",
       "      <th>count</th>\n",
       "      <td>112650.000000</td>\n",
       "      <td>112650.000000</td>\n",
       "      <td>112650.000000</td>\n",
       "      <td>112632.000000</td>\n",
       "      <td>112632.000000</td>\n",
       "      <td>112632.000000</td>\n",
       "      <td>112632.000000</td>\n",
       "    </tr>\n",
       "    <tr>\n",
       "      <th>mean</th>\n",
       "      <td>1.197834</td>\n",
       "      <td>120.653739</td>\n",
       "      <td>19.990320</td>\n",
       "      <td>2093.672047</td>\n",
       "      <td>30.153669</td>\n",
       "      <td>16.593766</td>\n",
       "      <td>22.996546</td>\n",
       "    </tr>\n",
       "    <tr>\n",
       "      <th>std</th>\n",
       "      <td>0.705124</td>\n",
       "      <td>183.633928</td>\n",
       "      <td>15.806405</td>\n",
       "      <td>3751.596884</td>\n",
       "      <td>16.153449</td>\n",
       "      <td>13.443483</td>\n",
       "      <td>11.707268</td>\n",
       "    </tr>\n",
       "    <tr>\n",
       "      <th>min</th>\n",
       "      <td>1.000000</td>\n",
       "      <td>0.850000</td>\n",
       "      <td>0.000000</td>\n",
       "      <td>0.000000</td>\n",
       "      <td>7.000000</td>\n",
       "      <td>2.000000</td>\n",
       "      <td>6.000000</td>\n",
       "    </tr>\n",
       "    <tr>\n",
       "      <th>25%</th>\n",
       "      <td>1.000000</td>\n",
       "      <td>39.900000</td>\n",
       "      <td>13.080000</td>\n",
       "      <td>300.000000</td>\n",
       "      <td>18.000000</td>\n",
       "      <td>8.000000</td>\n",
       "      <td>15.000000</td>\n",
       "    </tr>\n",
       "    <tr>\n",
       "      <th>50%</th>\n",
       "      <td>1.000000</td>\n",
       "      <td>74.990000</td>\n",
       "      <td>16.260000</td>\n",
       "      <td>700.000000</td>\n",
       "      <td>25.000000</td>\n",
       "      <td>13.000000</td>\n",
       "      <td>20.000000</td>\n",
       "    </tr>\n",
       "    <tr>\n",
       "      <th>75%</th>\n",
       "      <td>1.000000</td>\n",
       "      <td>134.900000</td>\n",
       "      <td>21.150000</td>\n",
       "      <td>1800.000000</td>\n",
       "      <td>38.000000</td>\n",
       "      <td>20.000000</td>\n",
       "      <td>30.000000</td>\n",
       "    </tr>\n",
       "    <tr>\n",
       "      <th>max</th>\n",
       "      <td>21.000000</td>\n",
       "      <td>6735.000000</td>\n",
       "      <td>409.680000</td>\n",
       "      <td>40425.000000</td>\n",
       "      <td>105.000000</td>\n",
       "      <td>105.000000</td>\n",
       "      <td>118.000000</td>\n",
       "    </tr>\n",
       "  </tbody>\n",
       "</table>\n",
       "</div>"
      ],
      "text/plain": [
       "       order_item_id          price  shipping_charges  product_weight_g  \\\n",
       "count  112650.000000  112650.000000     112650.000000     112632.000000   \n",
       "mean        1.197834     120.653739         19.990320       2093.672047   \n",
       "std         0.705124     183.633928         15.806405       3751.596884   \n",
       "min         1.000000       0.850000          0.000000          0.000000   \n",
       "25%         1.000000      39.900000         13.080000        300.000000   \n",
       "50%         1.000000      74.990000         16.260000        700.000000   \n",
       "75%         1.000000     134.900000         21.150000       1800.000000   \n",
       "max        21.000000    6735.000000        409.680000      40425.000000   \n",
       "\n",
       "       product_length_cm  product_height_cm  product_width_cm  \n",
       "count      112632.000000      112632.000000     112632.000000  \n",
       "mean           30.153669          16.593766         22.996546  \n",
       "std            16.153449          13.443483         11.707268  \n",
       "min             7.000000           2.000000          6.000000  \n",
       "25%            18.000000           8.000000         15.000000  \n",
       "50%            25.000000          13.000000         20.000000  \n",
       "75%            38.000000          20.000000         30.000000  \n",
       "max           105.000000         105.000000        118.000000  "
      ]
     },
     "execution_count": 54,
     "metadata": {},
     "output_type": "execute_result"
    }
   ],
   "source": [
    "#Checking the summary of the dataset\n",
    "df.describe()"
   ]
  },
  {
   "cell_type": "markdown",
   "metadata": {},
   "source": [
    "## Step 2: Data Cleaning and Preparation\n",
    "### 1. Checking for Missing Values in Dataframe"
   ]
  },
  {
   "cell_type": "code",
   "execution_count": 55,
   "metadata": {
    "scrolled": true
   },
   "outputs": [
    {
     "data": {
      "text/plain": [
       "order_id                            0\n",
       "customer_id                         0\n",
       "order_status                        0\n",
       "order_purchase_timestamp            0\n",
       "order_approved_at                  15\n",
       "order_delivered_timestamp        2454\n",
       "order_estimated_delivery_date       0\n",
       "order_item_id                       0\n",
       "product_id                          0\n",
       "seller_id                           0\n",
       "price                               0\n",
       "shipping_charges                    0\n",
       "product_category_name             393\n",
       "product_weight_g                   18\n",
       "product_length_cm                  18\n",
       "product_height_cm                  18\n",
       "product_width_cm                   18\n",
       "dtype: int64"
      ]
     },
     "execution_count": 55,
     "metadata": {},
     "output_type": "execute_result"
    }
   ],
   "source": [
    "df.isnull().sum()"
   ]
  },
  {
   "cell_type": "code",
   "execution_count": 56,
   "metadata": {},
   "outputs": [
    {
     "data": {
      "text/plain": [
       "order_id                         0.000000\n",
       "customer_id                      0.000000\n",
       "order_status                     0.000000\n",
       "order_purchase_timestamp         0.000000\n",
       "order_approved_at                0.013316\n",
       "order_delivered_timestamp        2.178429\n",
       "order_estimated_delivery_date    0.000000\n",
       "order_item_id                    0.000000\n",
       "product_id                       0.000000\n",
       "seller_id                        0.000000\n",
       "price                            0.000000\n",
       "shipping_charges                 0.000000\n",
       "product_category_name            0.348868\n",
       "product_weight_g                 0.015979\n",
       "product_length_cm                0.015979\n",
       "product_height_cm                0.015979\n",
       "product_width_cm                 0.015979\n",
       "dtype: float64"
      ]
     },
     "execution_count": 56,
     "metadata": {},
     "output_type": "execute_result"
    }
   ],
   "source": [
    "# Finding the null value percentage of each columns\n",
    "missing_val=(df.isnull().sum()/len(df))*100\n",
    "missing_val"
   ]
  },
  {
   "cell_type": "markdown",
   "metadata": {},
   "source": [
    "### 2. Imputing the missing values"
   ]
  },
  {
   "cell_type": "markdown",
   "metadata": {},
   "source": [
    "#### product_weight_g,product_length_cm,product_height_cm,product_width_cm"
   ]
  },
  {
   "cell_type": "code",
   "execution_count": 57,
   "metadata": {},
   "outputs": [],
   "source": [
    "#The missing values in the 'product_weight_g','product_length_cm','product_height_cm,'product_width_cm' is less than 0.01 %.\n",
    "# Hence imputing them using the mean value.\n",
    "df['product_weight_g'].fillna(df['product_weight_g'].mean(), inplace = True)\n",
    "df['product_length_cm'].fillna(df['product_length_cm'].mean(), inplace = True)\n",
    "df['product_height_cm'].fillna(df['product_height_cm'].mean(), inplace = True)\n",
    "df['product_width_cm'].fillna(df['product_width_cm'].mean(), inplace = True)"
   ]
  },
  {
   "cell_type": "markdown",
   "metadata": {},
   "source": [
    "#### product_category_name"
   ]
  },
  {
   "cell_type": "code",
   "execution_count": 58,
   "metadata": {},
   "outputs": [
    {
     "data": {
      "text/plain": [
       "toys                                       84483\n",
       "health_beauty                               3066\n",
       "bed_bath_table                              2608\n",
       "sports_leisure                              2313\n",
       "computers_accessories                       2175\n",
       "furniture_decor                             2130\n",
       "housewares                                  1699\n",
       "watches_gifts                               1542\n",
       "telephony                                   1203\n",
       "auto                                        1078\n",
       "garden_tools                                1042\n",
       "cool_stuff                                   986\n",
       "perfumery                                    833\n",
       "baby                                         778\n",
       "electronics                                  716\n",
       "office_furniture                             683\n",
       "stationery                                   617\n",
       "pet_shop                                     502\n",
       "fashion_bags_accessories                     429\n",
       "construction_tools_construction              245\n",
       "home_appliances                              244\n",
       "consoles_games                               208\n",
       "luggage_accessories                          206\n",
       "musical_instruments                          191\n",
       "home_construction                            167\n",
       "small_appliances                             157\n",
       "audio                                        128\n",
       "market_place                                 113\n",
       "books_general_interest                       105\n",
       "furniture_living_room                        102\n",
       "costruction_tools_garden                     100\n",
       "air_conditioning                              96\n",
       "books_technical                               96\n",
       "food_drink                                    83\n",
       "home_appliances_2                             82\n",
       "tablets_printing_image                        71\n",
       "fashion_shoes                                 70\n",
       "kitchen_dining_laundry_garden_furniture       68\n",
       "computers                                     65\n",
       "drinks                                        63\n",
       "agro_industry_and_commerce                    63\n",
       "construction_tools_lights                     63\n",
       "industry_commerce_and_business                62\n",
       "home_confort                                  62\n",
       "fixed_telephony                               58\n",
       "signaling_and_security                        58\n",
       "food                                          58\n",
       "costruction_tools_tools                       36\n",
       "christmas_supplies                            29\n",
       "construction_tools_safety                     28\n",
       "fashion_male_clothing                         27\n",
       "furniture_bedroom                             22\n",
       "fashion_underwear_beach                       21\n",
       "books_imported                                18\n",
       "art                                           16\n",
       "dvds_blu_ray                                  15\n",
       "small_appliances_home_oven_and_coffee         15\n",
       "party_supplies                                12\n",
       "flowers                                       11\n",
       "music                                          8\n",
       "cine_photo                                     8\n",
       "arts_and_craftmanship                          5\n",
       "fashio_female_clothing                         5\n",
       "fashion_sport                                  4\n",
       "la_cuisine                                     4\n",
       "fashion_childrens_clothes                      2\n",
       "diapers_and_hygiene                            1\n",
       "home_comfort_2                                 1\n",
       "security_and_services                          1\n",
       "furniture_mattress_and_upholstery              1\n",
       "Name: product_category_name, dtype: int64"
      ]
     },
     "execution_count": 58,
     "metadata": {},
     "output_type": "execute_result"
    }
   ],
   "source": [
    "# Checking the value counts of product category to understand the mode value.\n",
    "df['product_category_name'].value_counts()"
   ]
  },
  {
   "cell_type": "code",
   "execution_count": 59,
   "metadata": {},
   "outputs": [],
   "source": [
    "# imputing the missing value with mode\n",
    "df['product_category_name'].fillna(df['product_category_name'].mode(),inplace=True)"
   ]
  },
  {
   "cell_type": "markdown",
   "metadata": {},
   "source": [
    "#### order_approved_at , order_delivered_timestamp"
   ]
  },
  {
   "cell_type": "code",
   "execution_count": 60,
   "metadata": {},
   "outputs": [],
   "source": [
    "# Since imputing these columns with mean or median would create incorrect data , dropping the rows.\n",
    "df.dropna(axis=0,inplace=True)"
   ]
  },
  {
   "cell_type": "code",
   "execution_count": 61,
   "metadata": {},
   "outputs": [
    {
     "data": {
      "text/plain": [
       "order_id                         0\n",
       "customer_id                      0\n",
       "order_status                     0\n",
       "order_purchase_timestamp         0\n",
       "order_approved_at                0\n",
       "order_delivered_timestamp        0\n",
       "order_estimated_delivery_date    0\n",
       "order_item_id                    0\n",
       "product_id                       0\n",
       "seller_id                        0\n",
       "price                            0\n",
       "shipping_charges                 0\n",
       "product_category_name            0\n",
       "product_weight_g                 0\n",
       "product_length_cm                0\n",
       "product_height_cm                0\n",
       "product_width_cm                 0\n",
       "dtype: int64"
      ]
     },
     "execution_count": 61,
     "metadata": {},
     "output_type": "execute_result"
    }
   ],
   "source": [
    "#Checking the null values in the dataset\n",
    "df.isnull().sum()"
   ]
  },
  {
   "cell_type": "code",
   "execution_count": 62,
   "metadata": {},
   "outputs": [
    {
     "data": {
      "text/plain": [
       "(109806, 17)"
      ]
     },
     "execution_count": 62,
     "metadata": {},
     "output_type": "execute_result"
    }
   ],
   "source": [
    "# checking the shape of the dataset\n",
    "df.shape"
   ]
  },
  {
   "cell_type": "markdown",
   "metadata": {},
   "source": [
    "### 3. Checking outliers"
   ]
  },
  {
   "cell_type": "markdown",
   "metadata": {},
   "source": [
    "#### Price"
   ]
  },
  {
   "cell_type": "code",
   "execution_count": 63,
   "metadata": {},
   "outputs": [
    {
     "data": {
      "text/plain": [
       "count    109806.000000\n",
       "mean        120.015554\n",
       "std         182.404434\n",
       "min           0.850000\n",
       "25%          39.900000\n",
       "50%          74.900000\n",
       "75%         134.565000\n",
       "max        6735.000000\n",
       "Name: price, dtype: float64"
      ]
     },
     "execution_count": 63,
     "metadata": {},
     "output_type": "execute_result"
    }
   ],
   "source": [
    "df.price.describe()"
   ]
  },
  {
   "cell_type": "code",
   "execution_count": 64,
   "metadata": {
    "scrolled": false
   },
   "outputs": [
    {
     "data": {
      "image/png": "[encoded data removed]",
      "text/plain": [
       "<Figure size 432x288 with 1 Axes>"
      ]
     },
     "metadata": {
      "needs_background": "light"
     },
     "output_type": "display_data"
    }
   ],
   "source": [
    "sns.boxplot(df.price)\n",
    "plt.show()"
   ]
  },
  {
   "cell_type": "markdown",
   "metadata": {},
   "source": [
    "***Inference : Presence of outliers can be detected.However these values does not seem to be incorrect values as they are gradually increasing until 3500 .Let us have a look at the dataset where price is above 3500.***"
   ]
  },
  {
   "cell_type": "code",
   "execution_count": 65,
   "metadata": {
    "scrolled": true
   },
   "outputs": [
    {
     "data": {
      "text/html": [
       "<div>\n",
       "<style scoped>\n",
       "    .dataframe tbody tr th:only-of-type {\n",
       "        vertical-align: middle;\n",
       "    }\n",
       "\n",
       "    .dataframe tbody tr th {\n",
       "        vertical-align: top;\n",
       "    }\n",
       "\n",
       "    .dataframe thead th {\n",
       "        text-align: right;\n",
       "    }\n",
       "</style>\n",
       "<table border=\"1\" class=\"dataframe\">\n",
       "  <thead>\n",
       "    <tr style=\"text-align: right;\">\n",
       "      <th></th>\n",
       "      <th>order_id</th>\n",
       "      <th>customer_id</th>\n",
       "      <th>order_status</th>\n",
       "      <th>order_purchase_timestamp</th>\n",
       "      <th>order_approved_at</th>\n",
       "      <th>order_delivered_timestamp</th>\n",
       "      <th>order_estimated_delivery_date</th>\n",
       "      <th>order_item_id</th>\n",
       "      <th>product_id</th>\n",
       "      <th>seller_id</th>\n",
       "      <th>price</th>\n",
       "      <th>shipping_charges</th>\n",
       "      <th>product_category_name</th>\n",
       "      <th>product_weight_g</th>\n",
       "      <th>product_length_cm</th>\n",
       "      <th>product_height_cm</th>\n",
       "      <th>product_width_cm</th>\n",
       "    </tr>\n",
       "  </thead>\n",
       "  <tbody>\n",
       "    <tr>\n",
       "      <th>34503</th>\n",
       "      <td>b239ca7cd485940b31882363b52e6674</td>\n",
       "      <td>ca27f3dac28fb1063faddd424c9d95fa</td>\n",
       "      <td>delivered</td>\n",
       "      <td>2018-07-29 08:39:48</td>\n",
       "      <td>2018-07-30 08:15:14</td>\n",
       "      <td>2018-07-31 23:03:28</td>\n",
       "      <td>2018-08-07</td>\n",
       "      <td>1</td>\n",
       "      <td>dd113cb02b2af9c8e5787e8f1f0722f6</td>\n",
       "      <td>821fb029fc6e495ca4f08a35d51e53a5</td>\n",
       "      <td>4059.00</td>\n",
       "      <td>104.51</td>\n",
       "      <td>toys</td>\n",
       "      <td>8000.0</td>\n",
       "      <td>55.0</td>\n",
       "      <td>25.0</td>\n",
       "      <td>45.0</td>\n",
       "    </tr>\n",
       "    <tr>\n",
       "      <th>34504</th>\n",
       "      <td>a53e05ecd2ed1f46a2b8e1f5828be7c6</td>\n",
       "      <td>bc5e25094a7d51b6aee35236572e64f4</td>\n",
       "      <td>delivered</td>\n",
       "      <td>2018-01-26 14:30:21</td>\n",
       "      <td>2018-01-27 14:35:51</td>\n",
       "      <td>2018-02-02 13:53:10</td>\n",
       "      <td>2018-02-15</td>\n",
       "      <td>1</td>\n",
       "      <td>dd113cb02b2af9c8e5787e8f1f0722f6</td>\n",
       "      <td>821fb029fc6e495ca4f08a35d51e53a5</td>\n",
       "      <td>3690.00</td>\n",
       "      <td>136.80</td>\n",
       "      <td>toys</td>\n",
       "      <td>8000.0</td>\n",
       "      <td>55.0</td>\n",
       "      <td>25.0</td>\n",
       "      <td>45.0</td>\n",
       "    </tr>\n",
       "    <tr>\n",
       "      <th>38925</th>\n",
       "      <td>f5136e38d1a14a4dbd87dff67da82701</td>\n",
       "      <td>ff4159b92c40ebe40454e3e6a7c35ed6</td>\n",
       "      <td>delivered</td>\n",
       "      <td>2017-05-24 18:14:34</td>\n",
       "      <td>2017-05-26 02:45:17</td>\n",
       "      <td>2017-06-05 17:09:48</td>\n",
       "      <td>2017-06-28</td>\n",
       "      <td>1</td>\n",
       "      <td>1bdf5e6731585cf01aa8169c7028d6ad</td>\n",
       "      <td>ee27a8f15b1dded4d213a468ba4eb391</td>\n",
       "      <td>6499.00</td>\n",
       "      <td>227.66</td>\n",
       "      <td>toys</td>\n",
       "      <td>7400.0</td>\n",
       "      <td>47.0</td>\n",
       "      <td>25.0</td>\n",
       "      <td>25.0</td>\n",
       "    </tr>\n",
       "    <tr>\n",
       "      <th>54655</th>\n",
       "      <td>80dfedb6d17bf23539beeef3c768f4d7</td>\n",
       "      <td>edf81e1f3070b9dac83ec83dacdbb9bc</td>\n",
       "      <td>delivered</td>\n",
       "      <td>2017-04-18 20:37:26</td>\n",
       "      <td>2017-04-18 20:50:13</td>\n",
       "      <td>2017-05-04 14:13:36</td>\n",
       "      <td>2017-05-16</td>\n",
       "      <td>1</td>\n",
       "      <td>4ca7b91a31637bd24fb8e559d5e015e4</td>\n",
       "      <td>59417c56835dd8e2e72f91f809cd4092</td>\n",
       "      <td>3999.00</td>\n",
       "      <td>195.76</td>\n",
       "      <td>small_appliances</td>\n",
       "      <td>20500.0</td>\n",
       "      <td>39.0</td>\n",
       "      <td>39.0</td>\n",
       "      <td>58.0</td>\n",
       "    </tr>\n",
       "    <tr>\n",
       "      <th>63788</th>\n",
       "      <td>426a9742b533fc6fed17d1fd6d143d7e</td>\n",
       "      <td>edde2314c6c30e864a128ac95d6b2112</td>\n",
       "      <td>delivered</td>\n",
       "      <td>2018-08-03 21:10:16</td>\n",
       "      <td>2018-08-06 14:24:28</td>\n",
       "      <td>2018-08-08 22:51:57</td>\n",
       "      <td>2018-08-20</td>\n",
       "      <td>1</td>\n",
       "      <td>a1beef8f3992dbd4cd8726796aa69c53</td>\n",
       "      <td>512d298ac2a96d1931b6bd30aa21f61d</td>\n",
       "      <td>4399.87</td>\n",
       "      <td>113.45</td>\n",
       "      <td>toys</td>\n",
       "      <td>3550.0</td>\n",
       "      <td>71.0</td>\n",
       "      <td>34.0</td>\n",
       "      <td>22.0</td>\n",
       "    </tr>\n",
       "    <tr>\n",
       "      <th>75245</th>\n",
       "      <td>68101694e5c5dc7330c91e1bbc36214f</td>\n",
       "      <td>fa562ef24d41361e476e748681810e1e</td>\n",
       "      <td>delivered</td>\n",
       "      <td>2018-03-29 10:31:29</td>\n",
       "      <td>2018-03-31 08:27:27</td>\n",
       "      <td>2018-04-06 22:35:30</td>\n",
       "      <td>2018-04-17</td>\n",
       "      <td>1</td>\n",
       "      <td>6cdf8fc1d741c76586d8b6b15e9eef30</td>\n",
       "      <td>ed4acab38528488b65a9a9c603ff024a</td>\n",
       "      <td>4099.99</td>\n",
       "      <td>75.27</td>\n",
       "      <td>toys</td>\n",
       "      <td>3050.0</td>\n",
       "      <td>34.0</td>\n",
       "      <td>10.0</td>\n",
       "      <td>22.0</td>\n",
       "    </tr>\n",
       "    <tr>\n",
       "      <th>78422</th>\n",
       "      <td>0812eb902a67711a1cb742b3cdaa65ae</td>\n",
       "      <td>dc4802a71eae9be1dd28f5d788ceb526</td>\n",
       "      <td>delivered</td>\n",
       "      <td>2017-02-12 20:37:36</td>\n",
       "      <td>2017-02-12 20:45:12</td>\n",
       "      <td>2017-03-03 14:23:18</td>\n",
       "      <td>2017-03-09</td>\n",
       "      <td>1</td>\n",
       "      <td>489ae2aa008f021502940f251d4cce7f</td>\n",
       "      <td>e3b4998c7a498169dc7bce44e6bb6277</td>\n",
       "      <td>6735.00</td>\n",
       "      <td>194.31</td>\n",
       "      <td>housewares</td>\n",
       "      <td>30000.0</td>\n",
       "      <td>60.0</td>\n",
       "      <td>61.0</td>\n",
       "      <td>33.0</td>\n",
       "    </tr>\n",
       "    <tr>\n",
       "      <th>84179</th>\n",
       "      <td>fefacc66af859508bf1a7934eab1e97f</td>\n",
       "      <td>459bef486812aa25204be022145caa62</td>\n",
       "      <td>delivered</td>\n",
       "      <td>2018-07-25 18:10:17</td>\n",
       "      <td>2018-07-27 04:05:13</td>\n",
       "      <td>2018-08-15 14:57:50</td>\n",
       "      <td>2018-08-10</td>\n",
       "      <td>1</td>\n",
       "      <td>69c590f7ffc7bf8db97190b6cb6ed62e</td>\n",
       "      <td>80ceebb4ee9b31afb6c6a916a574a1e2</td>\n",
       "      <td>6729.00</td>\n",
       "      <td>193.21</td>\n",
       "      <td>toys</td>\n",
       "      <td>5660.0</td>\n",
       "      <td>54.0</td>\n",
       "      <td>18.0</td>\n",
       "      <td>47.0</td>\n",
       "    </tr>\n",
       "    <tr>\n",
       "      <th>88159</th>\n",
       "      <td>d3f66901a6743e15f9311547cc623b91</td>\n",
       "      <td>3fec1a05177762f279472253113d568a</td>\n",
       "      <td>delivered</td>\n",
       "      <td>2018-03-21 15:06:34</td>\n",
       "      <td>2018-03-22 17:48:31</td>\n",
       "      <td>2018-04-02 23:33:33</td>\n",
       "      <td>2018-04-12</td>\n",
       "      <td>1</td>\n",
       "      <td>1953c4e517bc25739bc4223ede2ff5bc</td>\n",
       "      <td>2bf6a2c1e71bbd29a4ad64e6d3c3629f</td>\n",
       "      <td>3700.00</td>\n",
       "      <td>92.59</td>\n",
       "      <td>toys</td>\n",
       "      <td>800.0</td>\n",
       "      <td>25.0</td>\n",
       "      <td>14.0</td>\n",
       "      <td>16.0</td>\n",
       "    </tr>\n",
       "    <tr>\n",
       "      <th>92153</th>\n",
       "      <td>199af31afc78c699f0dbf71fb178d4d4</td>\n",
       "      <td>eebb5dda148d3893cdaf5b5ca3040ccb</td>\n",
       "      <td>delivered</td>\n",
       "      <td>2017-04-18 18:50:13</td>\n",
       "      <td>2017-04-19 15:50:15</td>\n",
       "      <td>2017-05-07 10:42:39</td>\n",
       "      <td>2017-05-15</td>\n",
       "      <td>1</td>\n",
       "      <td>c3ed642d592594bb648ff4a04cee2747</td>\n",
       "      <td>59417c56835dd8e2e72f91f809cd4092</td>\n",
       "      <td>4690.00</td>\n",
       "      <td>74.34</td>\n",
       "      <td>toys</td>\n",
       "      <td>30000.0</td>\n",
       "      <td>50.0</td>\n",
       "      <td>49.0</td>\n",
       "      <td>50.0</td>\n",
       "    </tr>\n",
       "    <tr>\n",
       "      <th>92165</th>\n",
       "      <td>8dbc85d1447242f3b127dda390d56e19</td>\n",
       "      <td>48e1ac109decbb87765a3eade6854098</td>\n",
       "      <td>delivered</td>\n",
       "      <td>2018-06-22 12:23:19</td>\n",
       "      <td>2018-06-22 12:36:36</td>\n",
       "      <td>2018-07-06 01:08:30</td>\n",
       "      <td>2018-07-17</td>\n",
       "      <td>1</td>\n",
       "      <td>259037a6a41845e455183f89c5035f18</td>\n",
       "      <td>c72de06d72748d1a0dfb2125be43ba63</td>\n",
       "      <td>4590.00</td>\n",
       "      <td>91.78</td>\n",
       "      <td>toys</td>\n",
       "      <td>2900.0</td>\n",
       "      <td>35.0</td>\n",
       "      <td>10.0</td>\n",
       "      <td>40.0</td>\n",
       "    </tr>\n",
       "    <tr>\n",
       "      <th>98615</th>\n",
       "      <td>a96610ab360d42a2e5335a3998b4718a</td>\n",
       "      <td>da122df9eeddfedc1dc1f5349a1a690c</td>\n",
       "      <td>delivered</td>\n",
       "      <td>2017-04-01 15:58:40</td>\n",
       "      <td>2017-04-03 13:25:18</td>\n",
       "      <td>2017-04-17 11:04:45</td>\n",
       "      <td>2017-05-02</td>\n",
       "      <td>1</td>\n",
       "      <td>a6492cc69376c469ab6f61d8f44de961</td>\n",
       "      <td>59417c56835dd8e2e72f91f809cd4092</td>\n",
       "      <td>4799.00</td>\n",
       "      <td>151.34</td>\n",
       "      <td>toys</td>\n",
       "      <td>22600.0</td>\n",
       "      <td>55.0</td>\n",
       "      <td>40.0</td>\n",
       "      <td>40.0</td>\n",
       "    </tr>\n",
       "    <tr>\n",
       "      <th>100139</th>\n",
       "      <td>86c4eab1571921a6a6e248ed312f5a5a</td>\n",
       "      <td>011875f0176909c5cf0b14a9138bb691</td>\n",
       "      <td>delivered</td>\n",
       "      <td>2017-03-18 20:08:04</td>\n",
       "      <td>2017-03-18 20:08:04</td>\n",
       "      <td>2017-03-24 07:47:55</td>\n",
       "      <td>2017-04-03</td>\n",
       "      <td>1</td>\n",
       "      <td>6902c1962dd19d540807d0ab8fade5c6</td>\n",
       "      <td>fa1c13f2614d7b5c4749cbc52fecda94</td>\n",
       "      <td>3999.90</td>\n",
       "      <td>17.01</td>\n",
       "      <td>toys</td>\n",
       "      <td>800.0</td>\n",
       "      <td>16.0</td>\n",
       "      <td>11.0</td>\n",
       "      <td>11.0</td>\n",
       "    </tr>\n",
       "    <tr>\n",
       "      <th>104126</th>\n",
       "      <td>41b7766bb1df487d17fb9725b78ff509</td>\n",
       "      <td>f0767ae738c3d90e7b737d7b8b8bb4d1</td>\n",
       "      <td>delivered</td>\n",
       "      <td>2018-05-14 15:15:30</td>\n",
       "      <td>2018-05-15 18:16:06</td>\n",
       "      <td>2018-06-01 20:32:00</td>\n",
       "      <td>2018-06-11</td>\n",
       "      <td>1</td>\n",
       "      <td>0563d4cc419141eab2e5b438046e844e</td>\n",
       "      <td>039e6ad9dae79614493083e241147386</td>\n",
       "      <td>3930.00</td>\n",
       "      <td>49.55</td>\n",
       "      <td>toys</td>\n",
       "      <td>5650.0</td>\n",
       "      <td>17.0</td>\n",
       "      <td>38.0</td>\n",
       "      <td>32.0</td>\n",
       "    </tr>\n",
       "    <tr>\n",
       "      <th>105963</th>\n",
       "      <td>9de73f3e6157169ad6c32b9f313c7dcb</td>\n",
       "      <td>58483a1c055dfb600f57c5b867174542</td>\n",
       "      <td>delivered</td>\n",
       "      <td>2018-06-05 12:45:17</td>\n",
       "      <td>2018-06-05 14:31:37</td>\n",
       "      <td>2018-06-12 09:54:46</td>\n",
       "      <td>2018-07-03</td>\n",
       "      <td>1</td>\n",
       "      <td>0eb41884a8773e019708fb8409fd8347</td>\n",
       "      <td>c510bc1718f0f2961eaa42a23330681a</td>\n",
       "      <td>3899.00</td>\n",
       "      <td>135.44</td>\n",
       "      <td>baby</td>\n",
       "      <td>21467.0</td>\n",
       "      <td>76.0</td>\n",
       "      <td>57.0</td>\n",
       "      <td>51.0</td>\n",
       "    </tr>\n",
       "    <tr>\n",
       "      <th>108030</th>\n",
       "      <td>df85c824523500d4066a0dbdb5d95bed</td>\n",
       "      <td>03796b63235e0e0a299084988c662c7e</td>\n",
       "      <td>delivered</td>\n",
       "      <td>2017-02-21 18:35:38</td>\n",
       "      <td>2017-02-22 10:03:56</td>\n",
       "      <td>2017-03-01 16:39:44</td>\n",
       "      <td>2017-03-16</td>\n",
       "      <td>1</td>\n",
       "      <td>5e954c4ed342c50436d25d5f50a34919</td>\n",
       "      <td>585175ec331ea177fa47199e39a6170a</td>\n",
       "      <td>3549.00</td>\n",
       "      <td>53.47</td>\n",
       "      <td>toys</td>\n",
       "      <td>3200.0</td>\n",
       "      <td>30.0</td>\n",
       "      <td>7.0</td>\n",
       "      <td>40.0</td>\n",
       "    </tr>\n",
       "    <tr>\n",
       "      <th>109387</th>\n",
       "      <td>9a3966c23190dbdbaabed08e8429c006</td>\n",
       "      <td>5e713be0853d8986528d7869a0811d2b</td>\n",
       "      <td>delivered</td>\n",
       "      <td>2017-02-04 18:54:15</td>\n",
       "      <td>2017-02-04 19:22:25</td>\n",
       "      <td>2017-02-09 13:37:54</td>\n",
       "      <td>2017-03-31</td>\n",
       "      <td>1</td>\n",
       "      <td>4c50dcc50f1512f46096d6ef0142c4a9</td>\n",
       "      <td>abe021b01ba992245271b9aa422032df</td>\n",
       "      <td>3980.00</td>\n",
       "      <td>62.74</td>\n",
       "      <td>toys</td>\n",
       "      <td>800.0</td>\n",
       "      <td>16.0</td>\n",
       "      <td>2.0</td>\n",
       "      <td>11.0</td>\n",
       "    </tr>\n",
       "    <tr>\n",
       "      <th>110070</th>\n",
       "      <td>e85c92ee6a3ba1ef47e41c23286314d9</td>\n",
       "      <td>5d09b0d82126457e2a8ebfb9c9a1ffc4</td>\n",
       "      <td>delivered</td>\n",
       "      <td>2017-02-10 10:19:22</td>\n",
       "      <td>2017-02-11 15:45:19</td>\n",
       "      <td>2017-02-22 12:07:56</td>\n",
       "      <td>2017-03-07</td>\n",
       "      <td>1</td>\n",
       "      <td>071930404657f7cd416f75bd063a9d4b</td>\n",
       "      <td>403aa86912527d730337ffcb0fb096ab</td>\n",
       "      <td>3699.99</td>\n",
       "      <td>36.23</td>\n",
       "      <td>toys</td>\n",
       "      <td>4300.0</td>\n",
       "      <td>26.0</td>\n",
       "      <td>2.0</td>\n",
       "      <td>38.0</td>\n",
       "    </tr>\n",
       "  </tbody>\n",
       "</table>\n",
       "</div>"
      ],
      "text/plain": [
       "                                order_id                       customer_id  \\\n",
       "34503   b239ca7cd485940b31882363b52e6674  ca27f3dac28fb1063faddd424c9d95fa   \n",
       "34504   a53e05ecd2ed1f46a2b8e1f5828be7c6  bc5e25094a7d51b6aee35236572e64f4   \n",
       "38925   f5136e38d1a14a4dbd87dff67da82701  ff4159b92c40ebe40454e3e6a7c35ed6   \n",
       "54655   80dfedb6d17bf23539beeef3c768f4d7  edf81e1f3070b9dac83ec83dacdbb9bc   \n",
       "63788   426a9742b533fc6fed17d1fd6d143d7e  edde2314c6c30e864a128ac95d6b2112   \n",
       "75245   68101694e5c5dc7330c91e1bbc36214f  fa562ef24d41361e476e748681810e1e   \n",
       "78422   0812eb902a67711a1cb742b3cdaa65ae  dc4802a71eae9be1dd28f5d788ceb526   \n",
       "84179   fefacc66af859508bf1a7934eab1e97f  459bef486812aa25204be022145caa62   \n",
       "88159   d3f66901a6743e15f9311547cc623b91  3fec1a05177762f279472253113d568a   \n",
       "92153   199af31afc78c699f0dbf71fb178d4d4  eebb5dda148d3893cdaf5b5ca3040ccb   \n",
       "92165   8dbc85d1447242f3b127dda390d56e19  48e1ac109decbb87765a3eade6854098   \n",
       "98615   a96610ab360d42a2e5335a3998b4718a  da122df9eeddfedc1dc1f5349a1a690c   \n",
       "100139  86c4eab1571921a6a6e248ed312f5a5a  011875f0176909c5cf0b14a9138bb691   \n",
       "104126  41b7766bb1df487d17fb9725b78ff509  f0767ae738c3d90e7b737d7b8b8bb4d1   \n",
       "105963  9de73f3e6157169ad6c32b9f313c7dcb  58483a1c055dfb600f57c5b867174542   \n",
       "108030  df85c824523500d4066a0dbdb5d95bed  03796b63235e0e0a299084988c662c7e   \n",
       "109387  9a3966c23190dbdbaabed08e8429c006  5e713be0853d8986528d7869a0811d2b   \n",
       "110070  e85c92ee6a3ba1ef47e41c23286314d9  5d09b0d82126457e2a8ebfb9c9a1ffc4   \n",
       "\n",
       "       order_status order_purchase_timestamp   order_approved_at  \\\n",
       "34503     delivered      2018-07-29 08:39:48 2018-07-30 08:15:14   \n",
       "34504     delivered      2018-01-26 14:30:21 2018-01-27 14:35:51   \n",
       "38925     delivered      2017-05-24 18:14:34 2017-05-26 02:45:17   \n",
       "54655     delivered      2017-04-18 20:37:26 2017-04-18 20:50:13   \n",
       "63788     delivered      2018-08-03 21:10:16 2018-08-06 14:24:28   \n",
       "75245     delivered      2018-03-29 10:31:29 2018-03-31 08:27:27   \n",
       "78422     delivered      2017-02-12 20:37:36 2017-02-12 20:45:12   \n",
       "84179     delivered      2018-07-25 18:10:17 2018-07-27 04:05:13   \n",
       "88159     delivered      2018-03-21 15:06:34 2018-03-22 17:48:31   \n",
       "92153     delivered      2017-04-18 18:50:13 2017-04-19 15:50:15   \n",
       "92165     delivered      2018-06-22 12:23:19 2018-06-22 12:36:36   \n",
       "98615     delivered      2017-04-01 15:58:40 2017-04-03 13:25:18   \n",
       "100139    delivered      2017-03-18 20:08:04 2017-03-18 20:08:04   \n",
       "104126    delivered      2018-05-14 15:15:30 2018-05-15 18:16:06   \n",
       "105963    delivered      2018-06-05 12:45:17 2018-06-05 14:31:37   \n",
       "108030    delivered      2017-02-21 18:35:38 2017-02-22 10:03:56   \n",
       "109387    delivered      2017-02-04 18:54:15 2017-02-04 19:22:25   \n",
       "110070    delivered      2017-02-10 10:19:22 2017-02-11 15:45:19   \n",
       "\n",
       "       order_delivered_timestamp order_estimated_delivery_date  order_item_id  \\\n",
       "34503        2018-07-31 23:03:28                    2018-08-07              1   \n",
       "34504        2018-02-02 13:53:10                    2018-02-15              1   \n",
       "38925        2017-06-05 17:09:48                    2017-06-28              1   \n",
       "54655        2017-05-04 14:13:36                    2017-05-16              1   \n",
       "63788        2018-08-08 22:51:57                    2018-08-20              1   \n",
       "75245        2018-04-06 22:35:30                    2018-04-17              1   \n",
       "78422        2017-03-03 14:23:18                    2017-03-09              1   \n",
       "84179        2018-08-15 14:57:50                    2018-08-10              1   \n",
       "88159        2018-04-02 23:33:33                    2018-04-12              1   \n",
       "92153        2017-05-07 10:42:39                    2017-05-15              1   \n",
       "92165        2018-07-06 01:08:30                    2018-07-17              1   \n",
       "98615        2017-04-17 11:04:45                    2017-05-02              1   \n",
       "100139       2017-03-24 07:47:55                    2017-04-03              1   \n",
       "104126       2018-06-01 20:32:00                    2018-06-11              1   \n",
       "105963       2018-06-12 09:54:46                    2018-07-03              1   \n",
       "108030       2017-03-01 16:39:44                    2017-03-16              1   \n",
       "109387       2017-02-09 13:37:54                    2017-03-31              1   \n",
       "110070       2017-02-22 12:07:56                    2017-03-07              1   \n",
       "\n",
       "                              product_id                         seller_id  \\\n",
       "34503   dd113cb02b2af9c8e5787e8f1f0722f6  821fb029fc6e495ca4f08a35d51e53a5   \n",
       "34504   dd113cb02b2af9c8e5787e8f1f0722f6  821fb029fc6e495ca4f08a35d51e53a5   \n",
       "38925   1bdf5e6731585cf01aa8169c7028d6ad  ee27a8f15b1dded4d213a468ba4eb391   \n",
       "54655   4ca7b91a31637bd24fb8e559d5e015e4  59417c56835dd8e2e72f91f809cd4092   \n",
       "63788   a1beef8f3992dbd4cd8726796aa69c53  512d298ac2a96d1931b6bd30aa21f61d   \n",
       "75245   6cdf8fc1d741c76586d8b6b15e9eef30  ed4acab38528488b65a9a9c603ff024a   \n",
       "78422   489ae2aa008f021502940f251d4cce7f  e3b4998c7a498169dc7bce44e6bb6277   \n",
       "84179   69c590f7ffc7bf8db97190b6cb6ed62e  80ceebb4ee9b31afb6c6a916a574a1e2   \n",
       "88159   1953c4e517bc25739bc4223ede2ff5bc  2bf6a2c1e71bbd29a4ad64e6d3c3629f   \n",
       "92153   c3ed642d592594bb648ff4a04cee2747  59417c56835dd8e2e72f91f809cd4092   \n",
       "92165   259037a6a41845e455183f89c5035f18  c72de06d72748d1a0dfb2125be43ba63   \n",
       "98615   a6492cc69376c469ab6f61d8f44de961  59417c56835dd8e2e72f91f809cd4092   \n",
       "100139  6902c1962dd19d540807d0ab8fade5c6  fa1c13f2614d7b5c4749cbc52fecda94   \n",
       "104126  0563d4cc419141eab2e5b438046e844e  039e6ad9dae79614493083e241147386   \n",
       "105963  0eb41884a8773e019708fb8409fd8347  c510bc1718f0f2961eaa42a23330681a   \n",
       "108030  5e954c4ed342c50436d25d5f50a34919  585175ec331ea177fa47199e39a6170a   \n",
       "109387  4c50dcc50f1512f46096d6ef0142c4a9  abe021b01ba992245271b9aa422032df   \n",
       "110070  071930404657f7cd416f75bd063a9d4b  403aa86912527d730337ffcb0fb096ab   \n",
       "\n",
       "          price  shipping_charges product_category_name  product_weight_g  \\\n",
       "34503   4059.00            104.51                  toys            8000.0   \n",
       "34504   3690.00            136.80                  toys            8000.0   \n",
       "38925   6499.00            227.66                  toys            7400.0   \n",
       "54655   3999.00            195.76      small_appliances           20500.0   \n",
       "63788   4399.87            113.45                  toys            3550.0   \n",
       "75245   4099.99             75.27                  toys            3050.0   \n",
       "78422   6735.00            194.31            housewares           30000.0   \n",
       "84179   6729.00            193.21                  toys            5660.0   \n",
       "88159   3700.00             92.59                  toys             800.0   \n",
       "92153   4690.00             74.34                  toys           30000.0   \n",
       "92165   4590.00             91.78                  toys            2900.0   \n",
       "98615   4799.00            151.34                  toys           22600.0   \n",
       "100139  3999.90             17.01                  toys             800.0   \n",
       "104126  3930.00             49.55                  toys            5650.0   \n",
       "105963  3899.00            135.44                  baby           21467.0   \n",
       "108030  3549.00             53.47                  toys            3200.0   \n",
       "109387  3980.00             62.74                  toys             800.0   \n",
       "110070  3699.99             36.23                  toys            4300.0   \n",
       "\n",
       "        product_length_cm  product_height_cm  product_width_cm  \n",
       "34503                55.0               25.0              45.0  \n",
       "34504                55.0               25.0              45.0  \n",
       "38925                47.0               25.0              25.0  \n",
       "54655                39.0               39.0              58.0  \n",
       "63788                71.0               34.0              22.0  \n",
       "75245                34.0               10.0              22.0  \n",
       "78422                60.0               61.0              33.0  \n",
       "84179                54.0               18.0              47.0  \n",
       "88159                25.0               14.0              16.0  \n",
       "92153                50.0               49.0              50.0  \n",
       "92165                35.0               10.0              40.0  \n",
       "98615                55.0               40.0              40.0  \n",
       "100139               16.0               11.0              11.0  \n",
       "104126               17.0               38.0              32.0  \n",
       "105963               76.0               57.0              51.0  \n",
       "108030               30.0                7.0              40.0  \n",
       "109387               16.0                2.0              11.0  \n",
       "110070               26.0                2.0              38.0  "
      ]
     },
     "execution_count": 65,
     "metadata": {},
     "output_type": "execute_result"
    }
   ],
   "source": [
    "df[df.price>3500]"
   ]
  },
  {
   "cell_type": "markdown",
   "metadata": {},
   "source": [
    "***Inference: These values seems to be correct, as there are not products with weight less than 800. So heavier products can have higher prices.Hence these outliers are left untreated.***"
   ]
  },
  {
   "cell_type": "code",
   "execution_count": 66,
   "metadata": {},
   "outputs": [
    {
     "data": {
      "text/plain": [
       "count    109806.000000\n",
       "mean         19.950303\n",
       "std          15.703749\n",
       "min           0.000000\n",
       "25%          13.080000\n",
       "50%          16.260000\n",
       "75%          21.150000\n",
       "max         409.680000\n",
       "Name: shipping_charges, dtype: float64"
      ]
     },
     "execution_count": 66,
     "metadata": {},
     "output_type": "execute_result"
    }
   ],
   "source": [
    "df.shipping_charges.describe()"
   ]
  },
  {
   "cell_type": "code",
   "execution_count": 67,
   "metadata": {
    "scrolled": true
   },
   "outputs": [
    {
     "data": {
      "image/png": "[encoded data removed]",
      "text/plain": [
       "<Figure size 432x288 with 1 Axes>"
      ]
     },
     "metadata": {
      "needs_background": "light"
     },
     "output_type": "display_data"
    }
   ],
   "source": [
    "sns.boxplot(df.shipping_charges)\n",
    "plt.show()"
   ]
  },
  {
   "cell_type": "markdown",
   "metadata": {},
   "source": [
    "***Inference :The shipping values are gradually increasing ,hence let us have a look at data more than 300.***"
   ]
  },
  {
   "cell_type": "code",
   "execution_count": 68,
   "metadata": {},
   "outputs": [
    {
     "data": {
      "text/html": [
       "<div>\n",
       "<style scoped>\n",
       "    .dataframe tbody tr th:only-of-type {\n",
       "        vertical-align: middle;\n",
       "    }\n",
       "\n",
       "    .dataframe tbody tr th {\n",
       "        vertical-align: top;\n",
       "    }\n",
       "\n",
       "    .dataframe thead th {\n",
       "        text-align: right;\n",
       "    }\n",
       "</style>\n",
       "<table border=\"1\" class=\"dataframe\">\n",
       "  <thead>\n",
       "    <tr style=\"text-align: right;\">\n",
       "      <th></th>\n",
       "      <th>order_id</th>\n",
       "      <th>customer_id</th>\n",
       "      <th>order_status</th>\n",
       "      <th>order_purchase_timestamp</th>\n",
       "      <th>order_approved_at</th>\n",
       "      <th>order_delivered_timestamp</th>\n",
       "      <th>order_estimated_delivery_date</th>\n",
       "      <th>order_item_id</th>\n",
       "      <th>product_id</th>\n",
       "      <th>seller_id</th>\n",
       "      <th>price</th>\n",
       "      <th>shipping_charges</th>\n",
       "      <th>product_category_name</th>\n",
       "      <th>product_weight_g</th>\n",
       "      <th>product_length_cm</th>\n",
       "      <th>product_height_cm</th>\n",
       "      <th>product_width_cm</th>\n",
       "    </tr>\n",
       "  </thead>\n",
       "  <tbody>\n",
       "    <tr>\n",
       "      <th>40504</th>\n",
       "      <td>0b6230647ed16f4b3e70282dc4b5b87f</td>\n",
       "      <td>ecf7874aa8a2586adf6ca37fab21ecc2</td>\n",
       "      <td>delivered</td>\n",
       "      <td>2018-05-16 13:05:37</td>\n",
       "      <td>2018-05-17 19:36:10</td>\n",
       "      <td>2018-06-12 19:06:34</td>\n",
       "      <td>2018-06-14</td>\n",
       "      <td>1</td>\n",
       "      <td>46e24ce614899e36617e37ea1e4aa6ff</td>\n",
       "      <td>17f51e7198701186712e53a39c564617</td>\n",
       "      <td>1050.00</td>\n",
       "      <td>321.88</td>\n",
       "      <td>toys</td>\n",
       "      <td>30000.0</td>\n",
       "      <td>55.0</td>\n",
       "      <td>75.0</td>\n",
       "      <td>61.0</td>\n",
       "    </tr>\n",
       "    <tr>\n",
       "      <th>53565</th>\n",
       "      <td>c7a07ddd52bbe18b61da49a8d89853d3</td>\n",
       "      <td>0820b88e46f48599042bd627fe954b66</td>\n",
       "      <td>delivered</td>\n",
       "      <td>2018-07-13 10:33:48</td>\n",
       "      <td>2018-07-13 10:45:11</td>\n",
       "      <td>2018-07-31 22:48:52</td>\n",
       "      <td>2018-08-15</td>\n",
       "      <td>1</td>\n",
       "      <td>97c948ebc8c04b26b7bbb095d4228f2a</td>\n",
       "      <td>17f51e7198701186712e53a39c564617</td>\n",
       "      <td>1050.00</td>\n",
       "      <td>322.10</td>\n",
       "      <td>toys</td>\n",
       "      <td>30000.0</td>\n",
       "      <td>55.0</td>\n",
       "      <td>75.0</td>\n",
       "      <td>61.0</td>\n",
       "    </tr>\n",
       "    <tr>\n",
       "      <th>53569</th>\n",
       "      <td>264a7e199467906c0727394df82d1a6a</td>\n",
       "      <td>5f2f6fba74de007241fedfc485b72ba7</td>\n",
       "      <td>delivered</td>\n",
       "      <td>2018-04-06 17:20:33</td>\n",
       "      <td>2018-04-07 17:15:10</td>\n",
       "      <td>2018-05-08 13:12:16</td>\n",
       "      <td>2018-05-21</td>\n",
       "      <td>1</td>\n",
       "      <td>97c948ebc8c04b26b7bbb095d4228f2a</td>\n",
       "      <td>17f51e7198701186712e53a39c564617</td>\n",
       "      <td>1050.00</td>\n",
       "      <td>338.30</td>\n",
       "      <td>toys</td>\n",
       "      <td>30000.0</td>\n",
       "      <td>55.0</td>\n",
       "      <td>75.0</td>\n",
       "      <td>61.0</td>\n",
       "    </tr>\n",
       "    <tr>\n",
       "      <th>56562</th>\n",
       "      <td>076d1555fb53a89b0ef4d529e527a0f6</td>\n",
       "      <td>f140f377d666848e3712b51a2734d120</td>\n",
       "      <td>delivered</td>\n",
       "      <td>2018-07-30 10:04:21</td>\n",
       "      <td>2018-08-01 04:35:22</td>\n",
       "      <td>2018-08-08 00:46:43</td>\n",
       "      <td>2018-08-14</td>\n",
       "      <td>1</td>\n",
       "      <td>a3cd9517ebf5a50dca25acce54f3b171</td>\n",
       "      <td>6fa9202c10491e472dffd59a3e82b2a3</td>\n",
       "      <td>2338.08</td>\n",
       "      <td>375.28</td>\n",
       "      <td>toys</td>\n",
       "      <td>30000.0</td>\n",
       "      <td>75.0</td>\n",
       "      <td>58.0</td>\n",
       "      <td>65.0</td>\n",
       "    </tr>\n",
       "    <tr>\n",
       "      <th>56563</th>\n",
       "      <td>3fde74c28a3d5d618c00f26d51baafa0</td>\n",
       "      <td>5e92460d739e8dd987e279285a1d278c</td>\n",
       "      <td>delivered</td>\n",
       "      <td>2018-08-13 14:07:50</td>\n",
       "      <td>2018-08-15 03:15:09</td>\n",
       "      <td>2018-08-24 00:14:39</td>\n",
       "      <td>2018-09-05</td>\n",
       "      <td>1</td>\n",
       "      <td>a3cd9517ebf5a50dca25acce54f3b171</td>\n",
       "      <td>6fa9202c10491e472dffd59a3e82b2a3</td>\n",
       "      <td>2338.08</td>\n",
       "      <td>375.28</td>\n",
       "      <td>toys</td>\n",
       "      <td>30000.0</td>\n",
       "      <td>75.0</td>\n",
       "      <td>58.0</td>\n",
       "      <td>65.0</td>\n",
       "    </tr>\n",
       "    <tr>\n",
       "      <th>58725</th>\n",
       "      <td>0e4672661531addf3fa0f55961e55242</td>\n",
       "      <td>be2f2a80a6cfb6001c403b7a01c87db6</td>\n",
       "      <td>delivered</td>\n",
       "      <td>2017-06-25 08:11:23</td>\n",
       "      <td>2017-06-27 04:03:18</td>\n",
       "      <td>2017-07-28 19:25:43</td>\n",
       "      <td>2017-08-08</td>\n",
       "      <td>1</td>\n",
       "      <td>dc861f18267cce21f3b70f9f7990b8ce</td>\n",
       "      <td>17f51e7198701186712e53a39c564617</td>\n",
       "      <td>990.00</td>\n",
       "      <td>314.02</td>\n",
       "      <td>toys</td>\n",
       "      <td>30000.0</td>\n",
       "      <td>55.0</td>\n",
       "      <td>75.0</td>\n",
       "      <td>61.0</td>\n",
       "    </tr>\n",
       "    <tr>\n",
       "      <th>68949</th>\n",
       "      <td>6ddfbf514959b49b6410c01ad93054bb</td>\n",
       "      <td>aa4e2575d36a7b89546ca2e4087e9396</td>\n",
       "      <td>delivered</td>\n",
       "      <td>2017-11-23 15:10:22</td>\n",
       "      <td>2017-11-25 15:10:57</td>\n",
       "      <td>2017-12-20 22:58:14</td>\n",
       "      <td>2017-12-22</td>\n",
       "      <td>1</td>\n",
       "      <td>363a9f5b97bf194da23858be722a7aa5</td>\n",
       "      <td>9596c870880d900012f2e8e6e30d06d7</td>\n",
       "      <td>1045.00</td>\n",
       "      <td>314.40</td>\n",
       "      <td>construction_tools_construction</td>\n",
       "      <td>30000.0</td>\n",
       "      <td>100.0</td>\n",
       "      <td>50.0</td>\n",
       "      <td>50.0</td>\n",
       "    </tr>\n",
       "    <tr>\n",
       "      <th>68951</th>\n",
       "      <td>0822bcde10bb5d023755a71bc8f7797f</td>\n",
       "      <td>e3b3b57caa0974d93ed5218dde2ff4b3</td>\n",
       "      <td>delivered</td>\n",
       "      <td>2018-05-07 23:29:24</td>\n",
       "      <td>2018-05-07 23:52:39</td>\n",
       "      <td>2018-05-15 20:39:07</td>\n",
       "      <td>2018-05-22</td>\n",
       "      <td>1</td>\n",
       "      <td>363a9f5b97bf194da23858be722a7aa5</td>\n",
       "      <td>9596c870880d900012f2e8e6e30d06d7</td>\n",
       "      <td>990.00</td>\n",
       "      <td>321.46</td>\n",
       "      <td>construction_tools_construction</td>\n",
       "      <td>30000.0</td>\n",
       "      <td>100.0</td>\n",
       "      <td>50.0</td>\n",
       "      <td>50.0</td>\n",
       "    </tr>\n",
       "    <tr>\n",
       "      <th>70441</th>\n",
       "      <td>9f49bd16053df810384e793386312674</td>\n",
       "      <td>c6f70f6262d971489361b0d4fb0936ed</td>\n",
       "      <td>delivered</td>\n",
       "      <td>2018-07-29 11:41:33</td>\n",
       "      <td>2018-07-31 04:31:32</td>\n",
       "      <td>2018-08-06 20:07:34</td>\n",
       "      <td>2018-08-22</td>\n",
       "      <td>1</td>\n",
       "      <td>256a9c364b75753b97bee410c9491ad8</td>\n",
       "      <td>5c030029b5916fed0986310385ec9009</td>\n",
       "      <td>1149.00</td>\n",
       "      <td>339.59</td>\n",
       "      <td>toys</td>\n",
       "      <td>25250.0</td>\n",
       "      <td>68.0</td>\n",
       "      <td>66.0</td>\n",
       "      <td>66.0</td>\n",
       "    </tr>\n",
       "    <tr>\n",
       "      <th>74497</th>\n",
       "      <td>fe12e676fd493885d417a34bc3917411</td>\n",
       "      <td>3d17b748f8eed69a279e77fa3c10b20b</td>\n",
       "      <td>delivered</td>\n",
       "      <td>2017-05-22 18:28:29</td>\n",
       "      <td>2017-05-22 18:35:15</td>\n",
       "      <td>2017-06-13 07:25:40</td>\n",
       "      <td>2017-07-05</td>\n",
       "      <td>1</td>\n",
       "      <td>1d16c0509e7011656e03c6a582ff6667</td>\n",
       "      <td>17f51e7198701186712e53a39c564617</td>\n",
       "      <td>760.00</td>\n",
       "      <td>312.41</td>\n",
       "      <td>toys</td>\n",
       "      <td>30000.0</td>\n",
       "      <td>55.0</td>\n",
       "      <td>75.0</td>\n",
       "      <td>61.0</td>\n",
       "    </tr>\n",
       "    <tr>\n",
       "      <th>96439</th>\n",
       "      <td>3dd5626c63f493f8b8f8788c2be24baa</td>\n",
       "      <td>4683ad127301c1bcbd601a30bb22d2ba</td>\n",
       "      <td>delivered</td>\n",
       "      <td>2018-04-27 19:50:43</td>\n",
       "      <td>2018-04-28 19:50:59</td>\n",
       "      <td>2018-05-03 20:28:35</td>\n",
       "      <td>2018-05-18</td>\n",
       "      <td>1</td>\n",
       "      <td>3a1855685a49813f60e6193864f7215e</td>\n",
       "      <td>c510bc1718f0f2961eaa42a23330681a</td>\n",
       "      <td>2699.00</td>\n",
       "      <td>306.06</td>\n",
       "      <td>toys</td>\n",
       "      <td>11450.0</td>\n",
       "      <td>57.0</td>\n",
       "      <td>78.0</td>\n",
       "      <td>44.0</td>\n",
       "    </tr>\n",
       "    <tr>\n",
       "      <th>97338</th>\n",
       "      <td>a77e1550db865202c56b19ddc6dc4d53</td>\n",
       "      <td>97734fdca127fddcb5f92f841690c3f2</td>\n",
       "      <td>delivered</td>\n",
       "      <td>2018-04-16 14:57:21</td>\n",
       "      <td>2018-04-19 06:55:13</td>\n",
       "      <td>2018-04-27 19:45:00</td>\n",
       "      <td>2018-05-17</td>\n",
       "      <td>1</td>\n",
       "      <td>ec31d2a17b299511e7c8627be9337b9b</td>\n",
       "      <td>257e61d3251fb5efb9daadddbc2cf7ca</td>\n",
       "      <td>979.00</td>\n",
       "      <td>409.68</td>\n",
       "      <td>baby</td>\n",
       "      <td>14675.0</td>\n",
       "      <td>55.0</td>\n",
       "      <td>64.0</td>\n",
       "      <td>52.0</td>\n",
       "    </tr>\n",
       "    <tr>\n",
       "      <th>112502</th>\n",
       "      <td>43bdbd9dc0931d72befdf4765af6c442</td>\n",
       "      <td>95a744604de66a2e40e18086e69be4f2</td>\n",
       "      <td>delivered</td>\n",
       "      <td>2018-07-06 11:07:02</td>\n",
       "      <td>2018-07-10 08:35:21</td>\n",
       "      <td>2018-07-24 20:16:54</td>\n",
       "      <td>2018-07-30</td>\n",
       "      <td>1</td>\n",
       "      <td>7e53e051875b2a0c9f22acd8a9a29a20</td>\n",
       "      <td>eeb6de78f79159600292e314a77cbd18</td>\n",
       "      <td>3089.00</td>\n",
       "      <td>317.47</td>\n",
       "      <td>industry_commerce_and_business</td>\n",
       "      <td>11300.0</td>\n",
       "      <td>44.0</td>\n",
       "      <td>34.0</td>\n",
       "      <td>25.0</td>\n",
       "    </tr>\n",
       "  </tbody>\n",
       "</table>\n",
       "</div>"
      ],
      "text/plain": [
       "                                order_id                       customer_id  \\\n",
       "40504   0b6230647ed16f4b3e70282dc4b5b87f  ecf7874aa8a2586adf6ca37fab21ecc2   \n",
       "53565   c7a07ddd52bbe18b61da49a8d89853d3  0820b88e46f48599042bd627fe954b66   \n",
       "53569   264a7e199467906c0727394df82d1a6a  5f2f6fba74de007241fedfc485b72ba7   \n",
       "56562   076d1555fb53a89b0ef4d529e527a0f6  f140f377d666848e3712b51a2734d120   \n",
       "56563   3fde74c28a3d5d618c00f26d51baafa0  5e92460d739e8dd987e279285a1d278c   \n",
       "58725   0e4672661531addf3fa0f55961e55242  be2f2a80a6cfb6001c403b7a01c87db6   \n",
       "68949   6ddfbf514959b49b6410c01ad93054bb  aa4e2575d36a7b89546ca2e4087e9396   \n",
       "68951   0822bcde10bb5d023755a71bc8f7797f  e3b3b57caa0974d93ed5218dde2ff4b3   \n",
       "70441   9f49bd16053df810384e793386312674  c6f70f6262d971489361b0d4fb0936ed   \n",
       "74497   fe12e676fd493885d417a34bc3917411  3d17b748f8eed69a279e77fa3c10b20b   \n",
       "96439   3dd5626c63f493f8b8f8788c2be24baa  4683ad127301c1bcbd601a30bb22d2ba   \n",
       "97338   a77e1550db865202c56b19ddc6dc4d53  97734fdca127fddcb5f92f841690c3f2   \n",
       "112502  43bdbd9dc0931d72befdf4765af6c442  95a744604de66a2e40e18086e69be4f2   \n",
       "\n",
       "       order_status order_purchase_timestamp   order_approved_at  \\\n",
       "40504     delivered      2018-05-16 13:05:37 2018-05-17 19:36:10   \n",
       "53565     delivered      2018-07-13 10:33:48 2018-07-13 10:45:11   \n",
       "53569     delivered      2018-04-06 17:20:33 2018-04-07 17:15:10   \n",
       "56562     delivered      2018-07-30 10:04:21 2018-08-01 04:35:22   \n",
       "56563     delivered      2018-08-13 14:07:50 2018-08-15 03:15:09   \n",
       "58725     delivered      2017-06-25 08:11:23 2017-06-27 04:03:18   \n",
       "68949     delivered      2017-11-23 15:10:22 2017-11-25 15:10:57   \n",
       "68951     delivered      2018-05-07 23:29:24 2018-05-07 23:52:39   \n",
       "70441     delivered      2018-07-29 11:41:33 2018-07-31 04:31:32   \n",
       "74497     delivered      2017-05-22 18:28:29 2017-05-22 18:35:15   \n",
       "96439     delivered      2018-04-27 19:50:43 2018-04-28 19:50:59   \n",
       "97338     delivered      2018-04-16 14:57:21 2018-04-19 06:55:13   \n",
       "112502    delivered      2018-07-06 11:07:02 2018-07-10 08:35:21   \n",
       "\n",
       "       order_delivered_timestamp order_estimated_delivery_date  order_item_id  \\\n",
       "40504        2018-06-12 19:06:34                    2018-06-14              1   \n",
       "53565        2018-07-31 22:48:52                    2018-08-15              1   \n",
       "53569        2018-05-08 13:12:16                    2018-05-21              1   \n",
       "56562        2018-08-08 00:46:43                    2018-08-14              1   \n",
       "56563        2018-08-24 00:14:39                    2018-09-05              1   \n",
       "58725        2017-07-28 19:25:43                    2017-08-08              1   \n",
       "68949        2017-12-20 22:58:14                    2017-12-22              1   \n",
       "68951        2018-05-15 20:39:07                    2018-05-22              1   \n",
       "70441        2018-08-06 20:07:34                    2018-08-22              1   \n",
       "74497        2017-06-13 07:25:40                    2017-07-05              1   \n",
       "96439        2018-05-03 20:28:35                    2018-05-18              1   \n",
       "97338        2018-04-27 19:45:00                    2018-05-17              1   \n",
       "112502       2018-07-24 20:16:54                    2018-07-30              1   \n",
       "\n",
       "                              product_id                         seller_id  \\\n",
       "40504   46e24ce614899e36617e37ea1e4aa6ff  17f51e7198701186712e53a39c564617   \n",
       "53565   97c948ebc8c04b26b7bbb095d4228f2a  17f51e7198701186712e53a39c564617   \n",
       "53569   97c948ebc8c04b26b7bbb095d4228f2a  17f51e7198701186712e53a39c564617   \n",
       "56562   a3cd9517ebf5a50dca25acce54f3b171  6fa9202c10491e472dffd59a3e82b2a3   \n",
       "56563   a3cd9517ebf5a50dca25acce54f3b171  6fa9202c10491e472dffd59a3e82b2a3   \n",
       "58725   dc861f18267cce21f3b70f9f7990b8ce  17f51e7198701186712e53a39c564617   \n",
       "68949   363a9f5b97bf194da23858be722a7aa5  9596c870880d900012f2e8e6e30d06d7   \n",
       "68951   363a9f5b97bf194da23858be722a7aa5  9596c870880d900012f2e8e6e30d06d7   \n",
       "70441   256a9c364b75753b97bee410c9491ad8  5c030029b5916fed0986310385ec9009   \n",
       "74497   1d16c0509e7011656e03c6a582ff6667  17f51e7198701186712e53a39c564617   \n",
       "96439   3a1855685a49813f60e6193864f7215e  c510bc1718f0f2961eaa42a23330681a   \n",
       "97338   ec31d2a17b299511e7c8627be9337b9b  257e61d3251fb5efb9daadddbc2cf7ca   \n",
       "112502  7e53e051875b2a0c9f22acd8a9a29a20  eeb6de78f79159600292e314a77cbd18   \n",
       "\n",
       "          price  shipping_charges            product_category_name  \\\n",
       "40504   1050.00            321.88                             toys   \n",
       "53565   1050.00            322.10                             toys   \n",
       "53569   1050.00            338.30                             toys   \n",
       "56562   2338.08            375.28                             toys   \n",
       "56563   2338.08            375.28                             toys   \n",
       "58725    990.00            314.02                             toys   \n",
       "68949   1045.00            314.40  construction_tools_construction   \n",
       "68951    990.00            321.46  construction_tools_construction   \n",
       "70441   1149.00            339.59                             toys   \n",
       "74497    760.00            312.41                             toys   \n",
       "96439   2699.00            306.06                             toys   \n",
       "97338    979.00            409.68                             baby   \n",
       "112502  3089.00            317.47   industry_commerce_and_business   \n",
       "\n",
       "        product_weight_g  product_length_cm  product_height_cm  \\\n",
       "40504            30000.0               55.0               75.0   \n",
       "53565            30000.0               55.0               75.0   \n",
       "53569            30000.0               55.0               75.0   \n",
       "56562            30000.0               75.0               58.0   \n",
       "56563            30000.0               75.0               58.0   \n",
       "58725            30000.0               55.0               75.0   \n",
       "68949            30000.0              100.0               50.0   \n",
       "68951            30000.0              100.0               50.0   \n",
       "70441            25250.0               68.0               66.0   \n",
       "74497            30000.0               55.0               75.0   \n",
       "96439            11450.0               57.0               78.0   \n",
       "97338            14675.0               55.0               64.0   \n",
       "112502           11300.0               44.0               34.0   \n",
       "\n",
       "        product_width_cm  \n",
       "40504               61.0  \n",
       "53565               61.0  \n",
       "53569               61.0  \n",
       "56562               65.0  \n",
       "56563               65.0  \n",
       "58725               61.0  \n",
       "68949               50.0  \n",
       "68951               50.0  \n",
       "70441               66.0  \n",
       "74497               61.0  \n",
       "96439               44.0  \n",
       "97338               52.0  \n",
       "112502              25.0  "
      ]
     },
     "execution_count": 68,
     "metadata": {},
     "output_type": "execute_result"
    }
   ],
   "source": [
    "df[df.shipping_charges>300]"
   ]
  },
  {
   "cell_type": "markdown",
   "metadata": {},
   "source": [
    "***Inference: The items with higher shipping charges are heavier items too.Hence these values seems to be correct data and are left untreated.***\n",
    "    "
   ]
  },
  {
   "cell_type": "code",
   "execution_count": 69,
   "metadata": {},
   "outputs": [
    {
     "data": {
      "text/plain": [
       "count    109806.000000\n",
       "mean       2088.565098\n",
       "std        3738.522799\n",
       "min           0.000000\n",
       "25%         300.000000\n",
       "50%         700.000000\n",
       "75%        1800.000000\n",
       "max       40425.000000\n",
       "Name: product_weight_g, dtype: float64"
      ]
     },
     "execution_count": 69,
     "metadata": {},
     "output_type": "execute_result"
    }
   ],
   "source": [
    "df.product_weight_g.describe()"
   ]
  },
  {
   "cell_type": "code",
   "execution_count": 70,
   "metadata": {},
   "outputs": [
    {
     "data": {
      "image/png": "[encoded data removed]",
      "text/plain": [
       "<Figure size 432x288 with 1 Axes>"
      ]
     },
     "metadata": {
      "needs_background": "light"
     },
     "output_type": "display_data"
    }
   ],
   "source": [
    "sns.boxplot(df.product_weight_g)\n",
    "plt.show()"
   ]
  },
  {
   "cell_type": "markdown",
   "metadata": {},
   "source": [
    "***Inference: The datapoints are all continously increasing up until 30000.Since there is only one datapoint above that,it can be considered as a outlier and can be removed.***"
   ]
  },
  {
   "cell_type": "code",
   "execution_count": 71,
   "metadata": {},
   "outputs": [],
   "source": [
    "df=df[df.product_weight_g<35000]"
   ]
  },
  {
   "cell_type": "code",
   "execution_count": 72,
   "metadata": {
    "scrolled": false
   },
   "outputs": [
    {
     "data": {
      "image/png": "[encoded data removed]",
      "text/plain": [
       "<Figure size 432x288 with 1 Axes>"
      ]
     },
     "metadata": {
      "needs_background": "light"
     },
     "output_type": "display_data"
    }
   ],
   "source": [
    "sns.boxplot(df.product_weight_g)\n",
    "plt.show()"
   ]
  },
  {
   "cell_type": "markdown",
   "metadata": {},
   "source": [
    "***The outlier value is removed.***"
   ]
  },
  {
   "cell_type": "code",
   "execution_count": 73,
   "metadata": {},
   "outputs": [
    {
     "data": {
      "text/plain": [
       "count    109803.000000\n",
       "mean         30.145431\n",
       "std          16.128813\n",
       "min           7.000000\n",
       "25%          18.000000\n",
       "50%          25.000000\n",
       "75%          38.000000\n",
       "max         105.000000\n",
       "Name: product_length_cm, dtype: float64"
      ]
     },
     "execution_count": 73,
     "metadata": {},
     "output_type": "execute_result"
    }
   ],
   "source": [
    "df.product_length_cm.describe()"
   ]
  },
  {
   "cell_type": "code",
   "execution_count": 74,
   "metadata": {
    "scrolled": true
   },
   "outputs": [
    {
     "data": {
      "image/png": "[encoded data removed]",
      "text/plain": [
       "<Figure size 432x288 with 1 Axes>"
      ]
     },
     "metadata": {
      "needs_background": "light"
     },
     "output_type": "display_data"
    }
   ],
   "source": [
    "sns.boxplot(df.product_length_cm)\n",
    "plt.show()"
   ]
  },
  {
   "cell_type": "markdown",
   "metadata": {},
   "source": [
    "***Inference: The values seem to be gradually increasing and hence outliers are not treated.***"
   ]
  },
  {
   "cell_type": "code",
   "execution_count": 75,
   "metadata": {},
   "outputs": [
    {
     "data": {
      "text/plain": [
       "count    109803.000000\n",
       "mean         16.557650\n",
       "std          13.408211\n",
       "min           2.000000\n",
       "25%           8.000000\n",
       "50%          13.000000\n",
       "75%          20.000000\n",
       "max         105.000000\n",
       "Name: product_height_cm, dtype: float64"
      ]
     },
     "execution_count": 75,
     "metadata": {},
     "output_type": "execute_result"
    }
   ],
   "source": [
    "df.product_height_cm.describe()"
   ]
  },
  {
   "cell_type": "code",
   "execution_count": 76,
   "metadata": {
    "scrolled": false
   },
   "outputs": [
    {
     "data": {
      "image/png": "[encoded data removed]",
      "text/plain": [
       "<Figure size 432x288 with 1 Axes>"
      ]
     },
     "metadata": {
      "needs_background": "light"
     },
     "output_type": "display_data"
    }
   ],
   "source": [
    "sns.boxplot(df.product_height_cm)\n",
    "plt.show()"
   ]
  },
  {
   "cell_type": "markdown",
   "metadata": {},
   "source": [
    "***Inference: The values seem to be gradually increasing and hence outliers are not treated.***"
   ]
  },
  {
   "cell_type": "code",
   "execution_count": 77,
   "metadata": {
    "scrolled": true
   },
   "outputs": [
    {
     "data": {
      "text/plain": [
       "count    109803.000000\n",
       "mean         22.991621\n",
       "std          11.687108\n",
       "min           6.000000\n",
       "25%          15.000000\n",
       "50%          20.000000\n",
       "75%          30.000000\n",
       "max         118.000000\n",
       "Name: product_width_cm, dtype: float64"
      ]
     },
     "execution_count": 77,
     "metadata": {},
     "output_type": "execute_result"
    }
   ],
   "source": [
    "df.product_width_cm.describe()"
   ]
  },
  {
   "cell_type": "code",
   "execution_count": 78,
   "metadata": {
    "scrolled": true
   },
   "outputs": [
    {
     "data": {
      "image/png": "[encoded data removed]",
      "text/plain": [
       "<Figure size 432x288 with 1 Axes>"
      ]
     },
     "metadata": {
      "needs_background": "light"
     },
     "output_type": "display_data"
    }
   ],
   "source": [
    "sns.boxplot(df.product_width_cm)\n",
    "plt.show()"
   ]
  },
  {
   "cell_type": "code",
   "execution_count": 79,
   "metadata": {
    "scrolled": false
   },
   "outputs": [
    {
     "data": {
      "text/html": [
       "<div>\n",
       "<style scoped>\n",
       "    .dataframe tbody tr th:only-of-type {\n",
       "        vertical-align: middle;\n",
       "    }\n",
       "\n",
       "    .dataframe tbody tr th {\n",
       "        vertical-align: top;\n",
       "    }\n",
       "\n",
       "    .dataframe thead th {\n",
       "        text-align: right;\n",
       "    }\n",
       "</style>\n",
       "<table border=\"1\" class=\"dataframe\">\n",
       "  <thead>\n",
       "    <tr style=\"text-align: right;\">\n",
       "      <th></th>\n",
       "      <th>order_id</th>\n",
       "      <th>customer_id</th>\n",
       "      <th>order_status</th>\n",
       "      <th>order_purchase_timestamp</th>\n",
       "      <th>order_approved_at</th>\n",
       "      <th>order_delivered_timestamp</th>\n",
       "      <th>order_estimated_delivery_date</th>\n",
       "      <th>order_item_id</th>\n",
       "      <th>product_id</th>\n",
       "      <th>seller_id</th>\n",
       "      <th>price</th>\n",
       "      <th>shipping_charges</th>\n",
       "      <th>product_category_name</th>\n",
       "      <th>product_weight_g</th>\n",
       "      <th>product_length_cm</th>\n",
       "      <th>product_height_cm</th>\n",
       "      <th>product_width_cm</th>\n",
       "    </tr>\n",
       "  </thead>\n",
       "  <tbody>\n",
       "    <tr>\n",
       "      <th>68151</th>\n",
       "      <td>0a0090ae69392fa38ee742006f8c0a90</td>\n",
       "      <td>a7d9a3e447614288937ad2bba991676c</td>\n",
       "      <td>delivered</td>\n",
       "      <td>2017-08-11 21:59:05</td>\n",
       "      <td>2017-08-11 22:25:10</td>\n",
       "      <td>2017-08-22 18:05:55</td>\n",
       "      <td>2017-08-31</td>\n",
       "      <td>1</td>\n",
       "      <td>b17808303e15dd50538c011b44295427</td>\n",
       "      <td>4a3ca9315b744ce9f8e9374361493884</td>\n",
       "      <td>85.5</td>\n",
       "      <td>9.91</td>\n",
       "      <td>toys</td>\n",
       "      <td>1050.0</td>\n",
       "      <td>23.0</td>\n",
       "      <td>93.0</td>\n",
       "      <td>118.0</td>\n",
       "    </tr>\n",
       "    <tr>\n",
       "      <th>68152</th>\n",
       "      <td>1a2442f225e9147e717dfaa6a93058d4</td>\n",
       "      <td>231b15fc7a2d0b20ec277816e0385cda</td>\n",
       "      <td>delivered</td>\n",
       "      <td>2017-03-20 22:21:57</td>\n",
       "      <td>2017-03-20 22:21:57</td>\n",
       "      <td>2017-03-24 10:50:15</td>\n",
       "      <td>2017-04-06</td>\n",
       "      <td>1</td>\n",
       "      <td>b17808303e15dd50538c011b44295427</td>\n",
       "      <td>4a3ca9315b744ce9f8e9374361493884</td>\n",
       "      <td>68.9</td>\n",
       "      <td>11.87</td>\n",
       "      <td>toys</td>\n",
       "      <td>1050.0</td>\n",
       "      <td>23.0</td>\n",
       "      <td>93.0</td>\n",
       "      <td>118.0</td>\n",
       "    </tr>\n",
       "    <tr>\n",
       "      <th>68153</th>\n",
       "      <td>3a5271b57335b6f18985d213924b3ca0</td>\n",
       "      <td>63ec4c57fcfdce705d77573e49e2068e</td>\n",
       "      <td>delivered</td>\n",
       "      <td>2017-05-24 12:43:47</td>\n",
       "      <td>2017-05-26 02:25:25</td>\n",
       "      <td>2017-06-08 14:22:22</td>\n",
       "      <td>2017-06-13</td>\n",
       "      <td>1</td>\n",
       "      <td>b17808303e15dd50538c011b44295427</td>\n",
       "      <td>4a3ca9315b744ce9f8e9374361493884</td>\n",
       "      <td>68.9</td>\n",
       "      <td>12.82</td>\n",
       "      <td>toys</td>\n",
       "      <td>1050.0</td>\n",
       "      <td>23.0</td>\n",
       "      <td>93.0</td>\n",
       "      <td>118.0</td>\n",
       "    </tr>\n",
       "    <tr>\n",
       "      <th>68154</th>\n",
       "      <td>e5c0d192e1f883b21e7673f73cb644b9</td>\n",
       "      <td>5f0e0a97623a857fcfceb2d71d042d1b</td>\n",
       "      <td>delivered</td>\n",
       "      <td>2017-05-06 18:23:13</td>\n",
       "      <td>2017-05-06 18:35:13</td>\n",
       "      <td>2017-05-16 10:07:30</td>\n",
       "      <td>2017-05-29</td>\n",
       "      <td>1</td>\n",
       "      <td>b17808303e15dd50538c011b44295427</td>\n",
       "      <td>4a3ca9315b744ce9f8e9374361493884</td>\n",
       "      <td>68.9</td>\n",
       "      <td>12.82</td>\n",
       "      <td>toys</td>\n",
       "      <td>1050.0</td>\n",
       "      <td>23.0</td>\n",
       "      <td>93.0</td>\n",
       "      <td>118.0</td>\n",
       "    </tr>\n",
       "    <tr>\n",
       "      <th>68155</th>\n",
       "      <td>4ae136c7611e6052ec06035442490f24</td>\n",
       "      <td>ad585bf696fc252c06f084e8a2fbf784</td>\n",
       "      <td>delivered</td>\n",
       "      <td>2017-10-23 23:13:30</td>\n",
       "      <td>2017-10-23 23:28:07</td>\n",
       "      <td>2017-11-22 16:40:00</td>\n",
       "      <td>2017-11-09</td>\n",
       "      <td>1</td>\n",
       "      <td>b17808303e15dd50538c011b44295427</td>\n",
       "      <td>4a3ca9315b744ce9f8e9374361493884</td>\n",
       "      <td>85.5</td>\n",
       "      <td>13.62</td>\n",
       "      <td>toys</td>\n",
       "      <td>1050.0</td>\n",
       "      <td>23.0</td>\n",
       "      <td>93.0</td>\n",
       "      <td>118.0</td>\n",
       "    </tr>\n",
       "    <tr>\n",
       "      <th>68156</th>\n",
       "      <td>e1000df659259b29cb73a4798ccd7454</td>\n",
       "      <td>7bc7dbe918ad4e7bd68abd2479727ad6</td>\n",
       "      <td>delivered</td>\n",
       "      <td>2017-01-18 23:02:45</td>\n",
       "      <td>2017-01-18 23:10:20</td>\n",
       "      <td>2017-02-09 12:33:46</td>\n",
       "      <td>2017-02-28</td>\n",
       "      <td>1</td>\n",
       "      <td>b17808303e15dd50538c011b44295427</td>\n",
       "      <td>4a3ca9315b744ce9f8e9374361493884</td>\n",
       "      <td>68.9</td>\n",
       "      <td>15.69</td>\n",
       "      <td>toys</td>\n",
       "      <td>1050.0</td>\n",
       "      <td>23.0</td>\n",
       "      <td>93.0</td>\n",
       "      <td>118.0</td>\n",
       "    </tr>\n",
       "    <tr>\n",
       "      <th>68157</th>\n",
       "      <td>db6c6df011e1bcc8e03e81b23982a1dc</td>\n",
       "      <td>7e53420f2126366b3489c18314f82803</td>\n",
       "      <td>delivered</td>\n",
       "      <td>2017-05-11 12:10:03</td>\n",
       "      <td>2017-05-11 13:05:31</td>\n",
       "      <td>2017-05-19 19:22:16</td>\n",
       "      <td>2017-05-31</td>\n",
       "      <td>1</td>\n",
       "      <td>b17808303e15dd50538c011b44295427</td>\n",
       "      <td>4a3ca9315b744ce9f8e9374361493884</td>\n",
       "      <td>68.9</td>\n",
       "      <td>17.49</td>\n",
       "      <td>toys</td>\n",
       "      <td>1050.0</td>\n",
       "      <td>23.0</td>\n",
       "      <td>93.0</td>\n",
       "      <td>118.0</td>\n",
       "    </tr>\n",
       "    <tr>\n",
       "      <th>68158</th>\n",
       "      <td>4f4ec4d17cddc9375e76be0d91e5a51d</td>\n",
       "      <td>54ec75b3b0e0725f41c6aa0c4a0ffed1</td>\n",
       "      <td>delivered</td>\n",
       "      <td>2017-12-29 21:30:30</td>\n",
       "      <td>2017-12-29 22:06:39</td>\n",
       "      <td>2018-01-10 18:38:47</td>\n",
       "      <td>2018-01-31</td>\n",
       "      <td>1</td>\n",
       "      <td>b17808303e15dd50538c011b44295427</td>\n",
       "      <td>4a3ca9315b744ce9f8e9374361493884</td>\n",
       "      <td>85.5</td>\n",
       "      <td>17.85</td>\n",
       "      <td>toys</td>\n",
       "      <td>1050.0</td>\n",
       "      <td>23.0</td>\n",
       "      <td>93.0</td>\n",
       "      <td>118.0</td>\n",
       "    </tr>\n",
       "  </tbody>\n",
       "</table>\n",
       "</div>"
      ],
      "text/plain": [
       "                               order_id                       customer_id  \\\n",
       "68151  0a0090ae69392fa38ee742006f8c0a90  a7d9a3e447614288937ad2bba991676c   \n",
       "68152  1a2442f225e9147e717dfaa6a93058d4  231b15fc7a2d0b20ec277816e0385cda   \n",
       "68153  3a5271b57335b6f18985d213924b3ca0  63ec4c57fcfdce705d77573e49e2068e   \n",
       "68154  e5c0d192e1f883b21e7673f73cb644b9  5f0e0a97623a857fcfceb2d71d042d1b   \n",
       "68155  4ae136c7611e6052ec06035442490f24  ad585bf696fc252c06f084e8a2fbf784   \n",
       "68156  e1000df659259b29cb73a4798ccd7454  7bc7dbe918ad4e7bd68abd2479727ad6   \n",
       "68157  db6c6df011e1bcc8e03e81b23982a1dc  7e53420f2126366b3489c18314f82803   \n",
       "68158  4f4ec4d17cddc9375e76be0d91e5a51d  54ec75b3b0e0725f41c6aa0c4a0ffed1   \n",
       "\n",
       "      order_status order_purchase_timestamp   order_approved_at  \\\n",
       "68151    delivered      2017-08-11 21:59:05 2017-08-11 22:25:10   \n",
       "68152    delivered      2017-03-20 22:21:57 2017-03-20 22:21:57   \n",
       "68153    delivered      2017-05-24 12:43:47 2017-05-26 02:25:25   \n",
       "68154    delivered      2017-05-06 18:23:13 2017-05-06 18:35:13   \n",
       "68155    delivered      2017-10-23 23:13:30 2017-10-23 23:28:07   \n",
       "68156    delivered      2017-01-18 23:02:45 2017-01-18 23:10:20   \n",
       "68157    delivered      2017-05-11 12:10:03 2017-05-11 13:05:31   \n",
       "68158    delivered      2017-12-29 21:30:30 2017-12-29 22:06:39   \n",
       "\n",
       "      order_delivered_timestamp order_estimated_delivery_date  order_item_id  \\\n",
       "68151       2017-08-22 18:05:55                    2017-08-31              1   \n",
       "68152       2017-03-24 10:50:15                    2017-04-06              1   \n",
       "68153       2017-06-08 14:22:22                    2017-06-13              1   \n",
       "68154       2017-05-16 10:07:30                    2017-05-29              1   \n",
       "68155       2017-11-22 16:40:00                    2017-11-09              1   \n",
       "68156       2017-02-09 12:33:46                    2017-02-28              1   \n",
       "68157       2017-05-19 19:22:16                    2017-05-31              1   \n",
       "68158       2018-01-10 18:38:47                    2018-01-31              1   \n",
       "\n",
       "                             product_id                         seller_id  \\\n",
       "68151  b17808303e15dd50538c011b44295427  4a3ca9315b744ce9f8e9374361493884   \n",
       "68152  b17808303e15dd50538c011b44295427  4a3ca9315b744ce9f8e9374361493884   \n",
       "68153  b17808303e15dd50538c011b44295427  4a3ca9315b744ce9f8e9374361493884   \n",
       "68154  b17808303e15dd50538c011b44295427  4a3ca9315b744ce9f8e9374361493884   \n",
       "68155  b17808303e15dd50538c011b44295427  4a3ca9315b744ce9f8e9374361493884   \n",
       "68156  b17808303e15dd50538c011b44295427  4a3ca9315b744ce9f8e9374361493884   \n",
       "68157  b17808303e15dd50538c011b44295427  4a3ca9315b744ce9f8e9374361493884   \n",
       "68158  b17808303e15dd50538c011b44295427  4a3ca9315b744ce9f8e9374361493884   \n",
       "\n",
       "       price  shipping_charges product_category_name  product_weight_g  \\\n",
       "68151   85.5              9.91                  toys            1050.0   \n",
       "68152   68.9             11.87                  toys            1050.0   \n",
       "68153   68.9             12.82                  toys            1050.0   \n",
       "68154   68.9             12.82                  toys            1050.0   \n",
       "68155   85.5             13.62                  toys            1050.0   \n",
       "68156   68.9             15.69                  toys            1050.0   \n",
       "68157   68.9             17.49                  toys            1050.0   \n",
       "68158   85.5             17.85                  toys            1050.0   \n",
       "\n",
       "       product_length_cm  product_height_cm  product_width_cm  \n",
       "68151               23.0               93.0             118.0  \n",
       "68152               23.0               93.0             118.0  \n",
       "68153               23.0               93.0             118.0  \n",
       "68154               23.0               93.0             118.0  \n",
       "68155               23.0               93.0             118.0  \n",
       "68156               23.0               93.0             118.0  \n",
       "68157               23.0               93.0             118.0  \n",
       "68158               23.0               93.0             118.0  "
      ]
     },
     "execution_count": 79,
     "metadata": {},
     "output_type": "execute_result"
    }
   ],
   "source": [
    "df[df.product_width_cm>110]"
   ]
  },
  {
   "cell_type": "markdown",
   "metadata": {},
   "source": [
    "***Inference: The values seem to be incorrect hence left untreated.***"
   ]
  },
  {
   "cell_type": "code",
   "execution_count": 80,
   "metadata": {},
   "outputs": [
    {
     "data": {
      "text/plain": [
       "(109803, 17)"
      ]
     },
     "execution_count": 80,
     "metadata": {},
     "output_type": "execute_result"
    }
   ],
   "source": [
    "# checking the shape of the dataset\n",
    "df.shape"
   ]
  },
  {
   "cell_type": "markdown",
   "metadata": {},
   "source": [
    "### Percentage of rows left after data cleaning"
   ]
  },
  {
   "cell_type": "code",
   "execution_count": 81,
   "metadata": {},
   "outputs": [
    {
     "data": {
      "text/plain": [
       "97.47270306258322"
      ]
     },
     "execution_count": 81,
     "metadata": {},
     "output_type": "execute_result"
    }
   ],
   "source": [
    "(109803/112650)*100"
   ]
  },
  {
   "cell_type": "markdown",
   "metadata": {},
   "source": [
    "***Inference: 97% of data is left after data cleaning.***"
   ]
  },
  {
   "cell_type": "markdown",
   "metadata": {},
   "source": [
    "### Checking for duplicate rows"
   ]
  },
  {
   "cell_type": "code",
   "execution_count": 82,
   "metadata": {},
   "outputs": [],
   "source": [
    "duplicate = df[df.duplicated()]"
   ]
  },
  {
   "cell_type": "code",
   "execution_count": 83,
   "metadata": {},
   "outputs": [
    {
     "data": {
      "text/html": [
       "<div>\n",
       "<style scoped>\n",
       "    .dataframe tbody tr th:only-of-type {\n",
       "        vertical-align: middle;\n",
       "    }\n",
       "\n",
       "    .dataframe tbody tr th {\n",
       "        vertical-align: top;\n",
       "    }\n",
       "\n",
       "    .dataframe thead th {\n",
       "        text-align: right;\n",
       "    }\n",
       "</style>\n",
       "<table border=\"1\" class=\"dataframe\">\n",
       "  <thead>\n",
       "    <tr style=\"text-align: right;\">\n",
       "      <th></th>\n",
       "      <th>order_id</th>\n",
       "      <th>customer_id</th>\n",
       "      <th>order_status</th>\n",
       "      <th>order_purchase_timestamp</th>\n",
       "      <th>order_approved_at</th>\n",
       "      <th>order_delivered_timestamp</th>\n",
       "      <th>order_estimated_delivery_date</th>\n",
       "      <th>order_item_id</th>\n",
       "      <th>product_id</th>\n",
       "      <th>seller_id</th>\n",
       "      <th>price</th>\n",
       "      <th>shipping_charges</th>\n",
       "      <th>product_category_name</th>\n",
       "      <th>product_weight_g</th>\n",
       "      <th>product_length_cm</th>\n",
       "      <th>product_height_cm</th>\n",
       "      <th>product_width_cm</th>\n",
       "    </tr>\n",
       "  </thead>\n",
       "  <tbody>\n",
       "  </tbody>\n",
       "</table>\n",
       "</div>"
      ],
      "text/plain": [
       "Empty DataFrame\n",
       "Columns: [order_id, customer_id, order_status, order_purchase_timestamp, order_approved_at, order_delivered_timestamp, order_estimated_delivery_date, order_item_id, product_id, seller_id, price, shipping_charges, product_category_name, product_weight_g, product_length_cm, product_height_cm, product_width_cm]\n",
       "Index: []"
      ]
     },
     "execution_count": 83,
     "metadata": {},
     "output_type": "execute_result"
    }
   ],
   "source": [
    "duplicate"
   ]
  },
  {
   "cell_type": "markdown",
   "metadata": {},
   "source": [
    "***Inference: There are no duplicate rows in the database.***"
   ]
  },
  {
   "cell_type": "code",
   "execution_count": 84,
   "metadata": {},
   "outputs": [
    {
     "data": {
      "text/plain": [
       "(109803, 17)"
      ]
     },
     "execution_count": 84,
     "metadata": {},
     "output_type": "execute_result"
    }
   ],
   "source": [
    "df.shape"
   ]
  },
  {
   "cell_type": "markdown",
   "metadata": {},
   "source": [
    "### Dropping unwanted rows from the dataset"
   ]
  },
  {
   "cell_type": "code",
   "execution_count": 85,
   "metadata": {},
   "outputs": [],
   "source": [
    "# Since the analysis needs to be done on the items where order_status is delivered , the remaning rows can be dropped.\n",
    "df=df[df['order_status']=='delivered']"
   ]
  },
  {
   "cell_type": "code",
   "execution_count": 86,
   "metadata": {},
   "outputs": [
    {
     "data": {
      "text/plain": [
       "(109796, 17)"
      ]
     },
     "execution_count": 86,
     "metadata": {},
     "output_type": "execute_result"
    }
   ],
   "source": [
    "df.shape"
   ]
  },
  {
   "cell_type": "code",
   "execution_count": 87,
   "metadata": {},
   "outputs": [],
   "source": [
    "# Coverting the dataframe to excel\n",
    "df.to_excel(r\"C:\\Users\\Sajin\\Desktop\\Capstone_project_SumithaT\\Retail_dataset_updated.xlsx\") "
   ]
  },
  {
   "cell_type": "markdown",
   "metadata": {},
   "source": [
    "***Inference:    After Data clean up the dataset is read into an excel file.Furthur analysis will be done in Tableau.***"
   ]
  },
  {
   "cell_type": "code",
   "execution_count": null,
   "metadata": {},
   "outputs": [],
   "source": []
  },
  {
   "cell_type": "code",
   "execution_count": null,
   "metadata": {},
   "outputs": [],
   "source": []
  },
  {
   "cell_type": "code",
   "execution_count": null,
   "metadata": {},
   "outputs": [],
   "source": []
  }
 ],
 "metadata": {
  "kernelspec": {
   "display_name": "Python 3",
   "language": "python",
   "name": "python3"
  },
  "language_info": {
   "codemirror_mode": {
    "name": "ipython",
    "version": 3
   },
   "file_extension": ".py",
   "mimetype": "text/x-python",
   "name": "python",
   "nbconvert_exporter": "python",
   "pygments_lexer": "ipython3",
   "version": "3.7.6"
  }
 },
 "nbformat": 4,
 "nbformat_minor": 4
}
